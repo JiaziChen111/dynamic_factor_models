{
 "cells": [
  {
   "cell_type": "code",
   "execution_count": 1,
   "metadata": {},
   "outputs": [
    {
     "data": {
      "text/plain": [
       "Plots.PyPlotBackend()"
      ]
     },
     "execution_count": 1,
     "metadata": {},
     "output_type": "execute_result"
    }
   ],
   "source": [
    "using DataFrames\n",
    "using DataArrays\n",
    "using Plots\n",
    "pyplot()"
   ]
  },
  {
   "cell_type": "markdown",
   "metadata": {},
   "source": [
    "# Description of DFM"
   ]
  },
  {
   "cell_type": "markdown",
   "metadata": {},
   "source": [
    "## Static Form of the DFM\n",
    "Equation (6) \n",
    "$$X_t=\\Lambda F_t+e_t$$\n",
    "Equation (7)\n",
    "$$F_t=\\Phi(L)F_{t-1}+G\\eta_t$$"
   ]
  },
  {
   "cell_type": "markdown",
   "metadata": {},
   "source": [
    "### Principal Components Normalization\n",
    "Equation (11) in the paper\n",
    "$$\\frac{1}{N}\\Lambda'\\Lambda=I_r$$ and $\\Sigma_F\\equiv E\\left[F_tF_t^\\prime\\right]$ diagonal."
   ]
  },
  {
   "cell_type": "markdown",
   "metadata": {},
   "source": [
    "#### Principal Components Estimation\n",
    "Equation (13)\n",
    "$$\\min_{F_1,\\dots,F_T,\\Lambda}V_r(\\Lambda,F)$$\n",
    "where\n",
    "$$V_r\\left(\\Lambda,F\\right)=\\frac{1}{NT}\\sum_{t=1}^T\\left(X_t-\\Lambda F_t\\right)'\\left(X_t-\\Lambda F_t\\right)$$"
   ]
  },
  {
   "cell_type": "markdown",
   "metadata": {},
   "source": [
    "#### Principal Components Estimation with Missing Data\n",
    "Equation (15): \n",
    "$$\\min_{F_1,\\dots,F_T,\\Lambda}V_r\\left(\\Lambda,F\\right)=\\frac{1}{NT}\\sum_{i=1}^N\\sum_{t=1}^TS_{it}\\left(X_t-\\Lambda F_t\\right)^2.$$\n",
    "The objective function is minimized by iterations as follows:\n",
    "1. By principal component estimation using a subset of the series for which there are no missing observations, obtain $F_t$ give $\\Lambda$. \n",
    "3. Minimize over $\\Lambda$ given $F_t$.\n",
    "2. Minimize over $F_t$ given $\\Lambda$.\n",
    "4. Iterate 2 and 3 until converges."
   ]
  },
  {
   "cell_type": "markdown",
   "metadata": {},
   "source": [
    "# Figure 1\n",
    "Figure 1 assumes there is only one factor which evoles as\n",
    "$$f_t = \\Psi_4f_{t-1=}+\\dots+\\Psi_4f_{t-4}.$$\n",
    "All observed variables $y_t$ depend on the current value of $f$ and from first to fourth lags of $f$, and constant:\n",
    "$$X_{it} = \\lambda_i+\\lambda_{i0}f_t+\\lambda_{i1}f_{t1}+\\dots+\\lambda_{i4}f_{t4}.$$"
   ]
  },
  {
   "cell_type": "code",
   "execution_count": 2,
   "metadata": {
    "scrolled": true
   },
   "outputs": [
    {
     "data": {
      "text/plain": [
       "20"
      ]
     },
     "execution_count": 2,
     "metadata": {},
     "output_type": "execute_result"
    }
   ],
   "source": [
    "nt_min = 20 # min number of obs for any series used to est factors"
   ]
  },
  {
   "cell_type": "markdown",
   "metadata": {},
   "source": [
    "#### Useful functions"
   ]
  },
  {
   "cell_type": "code",
   "execution_count": 3,
   "metadata": {},
   "outputs": [
    {
     "data": {
      "text/plain": [
       "nansum (generic function with 1 method)"
      ]
     },
     "execution_count": 3,
     "metadata": {},
     "output_type": "execute_result"
    }
   ],
   "source": [
    "nanf(f::Function, x) = f(filter(!isnan, x))\n",
    "nanmean(x) = nanf(mean, x)\n",
    "nanstd(x) = nanf(std, x)\n",
    "nansum(x) = nanf(sum, x)"
   ]
  },
  {
   "cell_type": "code",
   "execution_count": 4,
   "metadata": {},
   "outputs": [
    {
     "data": {
      "text/plain": [
       "nansum (generic function with 2 methods)"
      ]
     },
     "execution_count": 4,
     "metadata": {},
     "output_type": "execute_result"
    }
   ],
   "source": [
    "apply_f_vertically(f::Function, df::DataFrame) =\n",
    "    Matrix(map(f, eachcol(df)))\n",
    "nanmean(df::DataFrame) = apply_f_vertically(nanmean, df)\n",
    "nanstd(df::DataFrame) = apply_f_vertically(nanstd, df)\n",
    "nansum(df::DataFrame) = apply_f_vertically(nansum, df)"
   ]
  },
  {
   "cell_type": "code",
   "execution_count": 5,
   "metadata": {},
   "outputs": [
    {
     "data": {
      "text/plain": [
       "dropna_col (generic function with 1 method)"
      ]
     },
     "execution_count": 5,
     "metadata": {},
     "output_type": "execute_result"
    }
   ],
   "source": [
    "function dropna_row(df::DataFrame)\n",
    "    numrows = completecases(df)\n",
    "    return df[numrows, :], numrows\n",
    "end\n",
    "function dropna_col(df::DataFrame) \n",
    "    df_dropped, numcolt= dropna_row(df')\n",
    "    return df_dropped', numcolt'\n",
    "end"
   ]
  },
  {
   "cell_type": "code",
   "execution_count": 6,
   "metadata": {},
   "outputs": [
    {
     "data": {
      "text/plain": [
       "dropna_col"
      ]
     },
     "execution_count": 6,
     "metadata": {},
     "output_type": "execute_result"
    }
   ],
   "source": [
    "\"\"\"\n",
    "##### Outputs\n",
    "- `numrow`: Vector of Bool where false indicates the row has `NaN` data.\n",
    "\"\"\"\n",
    "function dropna_row(A::Matrix)\n",
    "    numrow = .!vec(any(isnan.(A), 2))\n",
    "    return A[numrow, :], numrow\n",
    "end\n",
    "\"\"\"\n",
    "##### Outputs\n",
    "- `numcolt'`: RowVector of Bool where false indicates the column has `NaN` data.\n",
    "\"\"\"\n",
    "function dropna_col(A::Matrix)\n",
    "    At_dropped, numcolt = dropna_row(A')\n",
    "    return At_dropped', numcolt'\n",
    "end"
   ]
  },
  {
   "cell_type": "code",
   "execution_count": 7,
   "metadata": {},
   "outputs": [
    {
     "data": {
      "text/plain": [
       "pca_score (generic function with 1 method)"
      ]
     },
     "execution_count": 7,
     "metadata": {},
     "output_type": "execute_result"
    }
   ],
   "source": [
    "function pca_score(X, nfac_u)\n",
    "    _, _, V = svd(X)\n",
    "    score = (X*V)[:, 1:nfac_u]\n",
    "    return score\n",
    "end"
   ]
  },
  {
   "cell_type": "code",
   "execution_count": 8,
   "metadata": {
    "scrolled": true
   },
   "outputs": [
    {
     "data": {
      "text/plain": [
       "nanols"
      ]
     },
     "execution_count": 8,
     "metadata": {},
     "output_type": "execute_result"
    }
   ],
   "source": [
    "\"\"\"\n",
    "##### Arguments\n",
    "- `y::AbstractVector`: length `T` Vector or `TxN` Matrix where `T`\n",
    "                       is sample size and `N` is the number of \n",
    "                       regressed variables\n",
    "- `X::AbstractArray`: `TxK` Matrix where `K` is the number of\n",
    "                      regressors\n",
    "##### Outputs\n",
    "- `b`: OLS estimator of the coefficients\n",
    "- `e`: residual\n",
    "\"\"\"\n",
    "function ols(y::AbstractArray, X::AbstractArray)\n",
    "    b = X\\y\n",
    "    e = y - X*b\n",
    "    return b, e\n",
    "end\n",
    "\n",
    "\"\"\"\n",
    "do OLS ignoring samples containing NaN\n",
    "##### Outputs\n",
    "- `b`: OLS estimator of the coefficients\n",
    "- `e`: residual\n",
    "- `numrow`: BitArray inidicating rows used to estimate \n",
    "\"\"\"\n",
    "function nanols(y::AbstractVector, X::AbstractArray)\n",
    "    N = size(y, 2)\n",
    "    tmp, numrow = dropna_row([y X])\n",
    "    y_used, x_used = tmp[:, 1:N], tmp[:, N+1:end]\n",
    "    b, e = ols(y_used, x_used)\n",
    "    return b, e, numrow\n",
    "end\n",
    "\"\"\"\n",
    "##### Arguments\n",
    "- `y::AbstractMatrix`: `TxN`\n",
    "- `X::AbstractArray`: `TxK` Matrix or `T` Vector\n",
    "\"\"\"\n",
    "function nanols(y::AbstractMatrix, X::AbstractArray)\n",
    "    if size(y, 1) != size(X, 1)\n",
    "        error(\"Sample size must be same\")\n",
    "    end\n",
    "    T, N = size(y)\n",
    "    b = Matrix{Float64}(size(X, 2), N)\n",
    "    e = fill(NaN, T, N) \n",
    "    numrow = BitArray(T, N)\n",
    "    for i=1:N\n",
    "        tmp = nanols(y[:, i], X)\n",
    "        b[:, i] = tmp[1]\n",
    "        e[tmp[3], i] = tmp[2]\n",
    "        numrow[:, i] = tmp[3]\n",
    "    end\n",
    "    return b, e, numrow\n",
    "end\n"
   ]
  },
  {
   "cell_type": "code",
   "execution_count": 9,
   "metadata": {},
   "outputs": [
    {
     "data": {
      "text/plain": [
       "lagmat (generic function with 2 methods)"
      ]
     },
     "execution_count": 9,
     "metadata": {},
     "output_type": "execute_result"
    }
   ],
   "source": [
    "function lagmat(X::Array, lags::AbstractVector)\n",
    "    nc = size(X, 2)\n",
    "    Xlag = fill(NaN, size(X, 1), nc*length(lags))\n",
    "    for (i, lag) in enumerate(lags)\n",
    "        Xlag[lag+1:end, nc*(i-1)+1:nc*i] .= X[1:end-lag, :]\n",
    "    end\n",
    "    return Xlag\n",
    "end\n",
    "lagmat(X::Array, lag::Integer) = lagmat(X, [lag])"
   ]
  },
  {
   "cell_type": "code",
   "execution_count": 10,
   "metadata": {},
   "outputs": [
    {
     "data": {
      "text/plain": [
       "lag"
      ]
     },
     "execution_count": 10,
     "metadata": {},
     "output_type": "execute_result"
    }
   ],
   "source": [
    "\"\"\"\n",
    "`x::Array`: `nxk` matrix or vector of length `n` \n",
    "`xlag::Matrix`: `nxk` matrix\n",
    "\"\"\"\n",
    "function lag(x::Array, p::Integer)\n",
    "    if p >= 0\n",
    "        return vcat(fill(NaN, p, size(x, 2)), x[1:end-p, :])\n",
    "    else\n",
    "        return vcat(x[1-p:end, :], fill(NaN, -p, size(x, 2)))\n",
    "    end\n",
    "end"
   ]
  },
  {
   "cell_type": "code",
   "execution_count": 11,
   "metadata": {},
   "outputs": [
    {
     "data": {
      "text/plain": [
       "uar (generic function with 1 method)"
      ]
     },
     "execution_count": 11,
     "metadata": {},
     "output_type": "execute_result"
    }
   ],
   "source": [
    "function uar(y::Array, n_lags::Integer)\n",
    "    x = Matrix{Float64}(size(y, 1), size(y, 2)*n_lags)\n",
    "    for i = 1:n_lags\n",
    "        x[:, size(y, 2)*(i-1)+1:size(y, 2)*i] = lag(y, i)\n",
    "    end\n",
    "    bols, ehat, _ = nanols(y, x)\n",
    "    ssr = dot(ehat, ehat)\n",
    "    ser = sqrt(ssr/(size(x, 1)-size(x, 2)))\n",
    "    arcoef = bols\n",
    "    return arcoef, ser\n",
    "end"
   ]
  },
  {
   "cell_type": "markdown",
   "metadata": {},
   "source": [
    "## Import data"
   ]
  },
  {
   "cell_type": "code",
   "execution_count": 12,
   "metadata": {},
   "outputs": [
    {
     "data": {
      "text/plain": [
       "224×86 Array{Float64,2}:\n",
       " NaN            NaN            NaN            …  12.3235     NaN          \n",
       "   0.0142268      0.00530395     0.0228269        9.45272      0.0152701  \n",
       "  -0.0116989      0.000417996    0.0050264       -4.38442      0.00203857 \n",
       "  -0.00581949    -0.00882744    -0.0629256       -2.85467     -0.00647572 \n",
       "   0.012316      -0.000459845    0.0175352       -0.758017     0.0188318  \n",
       "  -0.0134915      0.00268641     0.0084729    …  -8.42778     -0.00129345 \n",
       "  -0.00717594    -0.0139067     -0.0219165       -6.79728     -0.00454431 \n",
       "  -0.0218157     -0.00861225    -0.0393015       -8.76649     -0.0154271  \n",
       "  -0.00283434    -0.0101246     -0.0704661       -6.96877     -0.0272235  \n",
       "   0.00883281     0.00493428     0.0066869        8.19584     -0.0158283  \n",
       "   0.00697616    -0.00494625     0.0103326    …   8.36063     -0.00347905 \n",
       "   0.0105292      0.0100276      0.0335589       11.6922       0.000487977\n",
       "   0.00833999     0.000812098    0.00756745       3.22391      0.0073634  \n",
       "   ⋮                                          ⋱                ⋮          \n",
       "   6.28e-5        0.000590848    0.0125893        0.312088     0.00344957 \n",
       "  -0.0014477     -0.00308755    -0.00728845      -0.260412     0.00381082 \n",
       "   0.00069685    -0.00138738     0.0063713       -3.86642      0.00817978 \n",
       "  -0.00527329    -0.00138238     0.00891624   …  -3.90583     -0.00108383 \n",
       "   0.00136266     0.00267335     0.00750272      -2.27856      0.00298895 \n",
       "  -0.000998409   -0.00171795    -0.00180695      -3.35118     -0.000650257\n",
       "   0.00569766    -0.00112899    -0.000681604      6.3097       0.00210145 \n",
       "   0.00327675     0.00306594     0.00127327       8.00418      0.00905227 \n",
       "  -0.0106217     -0.00298043    -0.00488462   …   0.0656793    0.00391703 \n",
       "   0.00595995     0.00029053     0.0203271        2.96092      0.00469112 \n",
       "   0.00687755     0.00197529     0.00942875       6.72325      0.00391343 \n",
       "   0.000212054    0.00439543     0.00209594       5.91928    NaN          "
      ]
     },
     "execution_count": 12,
     "metadata": {},
     "output_type": "execute_result"
    }
   ],
   "source": [
    "data = readcsv(\"data/bpdata.csv\")\n",
    "header = data[1, :]\n",
    "year = data[2:end, 1]\n",
    "data = Float64.(data[2:end, 2:end])"
   ]
  },
  {
   "cell_type": "code",
   "execution_count": 13,
   "metadata": {},
   "outputs": [
    {
     "data": {
      "text/plain": [
       "224×86 DataArrays.DataArray{Float64,2}:\n",
       " NaN            NaN            NaN            …  12.3235     NaN          \n",
       "   0.0142268      0.00530395     0.0228269        9.45272      0.0152701  \n",
       "  -0.0116989      0.000417996    0.0050264       -4.38442      0.00203857 \n",
       "  -0.00581949    -0.00882744    -0.0629256       -2.85467     -0.00647572 \n",
       "   0.012316      -0.000459845    0.0175352       -0.758017     0.0188318  \n",
       "  -0.0134915      0.00268641     0.0084729    …  -8.42778     -0.00129345 \n",
       "  -0.00717594    -0.0139067     -0.0219165       -6.79728     -0.00454431 \n",
       "  -0.0218157     -0.00861225    -0.0393015       -8.76649     -0.0154271  \n",
       "  -0.00283434    -0.0101246     -0.0704661       -6.96877     -0.0272235  \n",
       "   0.00883281     0.00493428     0.0066869        8.19584     -0.0158283  \n",
       "   0.00697616    -0.00494625     0.0103326    …   8.36063     -0.00347905 \n",
       "   0.0105292      0.0100276      0.0335589       11.6922       0.000487977\n",
       "   0.00833999     0.000812098    0.00756745       3.22391      0.0073634  \n",
       "   ⋮                                          ⋱                ⋮          \n",
       "   6.28e-5        0.000590848    0.0125893        0.312088     0.00344957 \n",
       "  -0.0014477     -0.00308755    -0.00728845      -0.260412     0.00381082 \n",
       "   0.00069685    -0.00138738     0.0063713       -3.86642      0.00817978 \n",
       "  -0.00527329    -0.00138238     0.00891624   …  -3.90583     -0.00108383 \n",
       "   0.00136266     0.00267335     0.00750272      -2.27856      0.00298895 \n",
       "  -0.000998409   -0.00171795    -0.00180695      -3.35118     -0.000650257\n",
       "   0.00569766    -0.00112899    -0.000681604      6.3097       0.00210145 \n",
       "   0.00327675     0.00306594     0.00127327       8.00418      0.00905227 \n",
       "  -0.0106217     -0.00298043    -0.00488462   …   0.0656793    0.00391703 \n",
       "   0.00595995     0.00029053     0.0203271        2.96092      0.00469112 \n",
       "   0.00687755     0.00197529     0.00942875       6.72325      0.00391343 \n",
       "   0.000212054    0.00439543     0.00209594       5.91928    NaN          "
      ]
     },
     "execution_count": 13,
     "metadata": {},
     "output_type": "execute_result"
    }
   ],
   "source": [
    "tmp =DataArray(data)"
   ]
  },
  {
   "cell_type": "code",
   "execution_count": 14,
   "metadata": {},
   "outputs": [
    {
     "data": {
      "text/plain": [
       "19264-element Array{Float64,1}:\n",
       " NaN          \n",
       "   0.0142268  \n",
       "  -0.0116989  \n",
       "  -0.00581949 \n",
       "   0.012316   \n",
       "  -0.0134915  \n",
       "  -0.00717594 \n",
       "  -0.0218157  \n",
       "  -0.00283434 \n",
       "   0.00883281 \n",
       "   0.00697616 \n",
       "   0.0105292  \n",
       "   0.00833999 \n",
       "   ⋮          \n",
       "   0.00344957 \n",
       "   0.00381082 \n",
       "   0.00817978 \n",
       "  -0.00108383 \n",
       "   0.00298895 \n",
       "  -0.000650257\n",
       "   0.00210145 \n",
       "   0.00905227 \n",
       "   0.00391703 \n",
       "   0.00469112 \n",
       "   0.00391343 \n",
       " NaN          "
      ]
     },
     "execution_count": 14,
     "metadata": {},
     "output_type": "execute_result"
    }
   ],
   "source": [
    "collect(skipmissing(tmp))"
   ]
  },
  {
   "cell_type": "markdown",
   "metadata": {},
   "source": [
    "## Restrict sample"
   ]
  },
  {
   "cell_type": "code",
   "execution_count": 15,
   "metadata": {},
   "outputs": [
    {
     "data": {
      "text/plain": [
       "222×86 Array{Float64,2}:\n",
       " -0.0116989     0.000417996   0.0050264    …  -4.38442      0.00203857 \n",
       " -0.00581949   -0.00882744   -0.0629256       -2.85467     -0.00647572 \n",
       "  0.012316     -0.000459845   0.0175352       -0.758017     0.0188318  \n",
       " -0.0134915     0.00268641    0.0084729       -8.42778     -0.00129345 \n",
       " -0.00717594   -0.0139067    -0.0219165       -6.79728     -0.00454431 \n",
       " -0.0218157    -0.00861225   -0.0393015    …  -8.76649     -0.0154271  \n",
       " -0.00283434   -0.0101246    -0.0704661       -6.96877     -0.0272235  \n",
       "  0.00883281    0.00493428    0.0066869        8.19584     -0.0158283  \n",
       "  0.00697616   -0.00494625    0.0103326        8.36063     -0.00347905 \n",
       "  0.0105292     0.0100276     0.0335589       11.6922       0.000487977\n",
       "  0.00833999    0.000812098   0.00756745   …   3.22391      0.0073634  \n",
       "  0.0012303     0.0024063     0.0127609       -2.711        0.00208582 \n",
       "  1.74e-5      -0.0016512    -0.00655048      -4.1126       0.00443766 \n",
       "  ⋮                                        ⋱                ⋮          \n",
       "  6.28e-5       0.000590848   0.0125893    …   0.312088     0.00344957 \n",
       " -0.0014477    -0.00308755   -0.00728845      -0.260412     0.00381082 \n",
       "  0.00069685   -0.00138738    0.0063713       -3.86642      0.00817978 \n",
       " -0.00527329   -0.00138238    0.00891624      -3.90583     -0.00108383 \n",
       "  0.00136266    0.00267335    0.00750272      -2.27856      0.00298895 \n",
       " -0.000998409  -0.00171795   -0.00180695   …  -3.35118     -0.000650257\n",
       "  0.00569766   -0.00112899   -0.000681604      6.3097       0.00210145 \n",
       "  0.00327675    0.00306594    0.00127327       8.00418      0.00905227 \n",
       " -0.0106217    -0.00298043   -0.00488462       0.0656793    0.00391703 \n",
       "  0.00595995    0.00029053    0.0203271        2.96092      0.00469112 \n",
       "  0.00687755    0.00197529    0.00942875   …   6.72325      0.00391343 \n",
       "  0.000212054   0.00439543    0.00209594       5.91928    NaN          "
      ]
     },
     "execution_count": 15,
     "metadata": {},
     "output_type": "execute_result"
    }
   ],
   "source": [
    "initperiod = 3 # first two observations are dropped\n",
    "\n",
    "# exclude year data\n",
    "xdata = Float64.(data[initperiod:end, :])"
   ]
  },
  {
   "cell_type": "markdown",
   "metadata": {},
   "source": [
    "## Standardize data"
   ]
  },
  {
   "cell_type": "markdown",
   "metadata": {},
   "source": [
    "Use $\\sqrt{\\frac{1}{N}\\sum_i^N x_i-\\overline{x}}$ instead of $\\sqrt{\\frac{1}{N-1}\\sum_i^N x_i-\\overline{x}}$"
   ]
  },
  {
   "cell_type": "code",
   "execution_count": 16,
   "metadata": {},
   "outputs": [
    {
     "data": {
      "text/plain": [
       "222×86 Array{Float64,2}:\n",
       " -1.40748     0.0744596   0.173258    0.616121   …  -0.60472       0.196305 \n",
       " -0.695838   -1.32505    -2.11177     0.294728      -0.393958     -0.598907 \n",
       "  1.4993     -0.0584219   0.593892   -0.456492      -0.105092      1.76475  \n",
       " -1.62447     0.417836    0.289153    0.0588688     -1.16179      -0.114897 \n",
       " -0.860024   -2.09391    -0.732752   -2.91457       -0.937152     -0.418518 \n",
       " -2.63204    -1.29248    -1.31736    -0.272196   …  -1.20846      -1.43494  \n",
       " -0.334512   -1.5214     -2.36533    -0.172815      -0.960779     -2.53669  \n",
       "  1.07769     0.758103    0.229095    0.924045       1.12853      -1.47241  \n",
       "  0.852962   -0.737543    0.35169    -1.85           1.15123      -0.319026 \n",
       "  1.28303     1.5291      1.13272     1.66387        1.61024       0.0514838\n",
       "  1.01804     0.134116    0.258706   -0.297892   …   0.443519      0.69363  \n",
       "  0.157477    0.375434    0.433345    1.02332       -0.374164      0.200718 \n",
       "  0.0106661  -0.238761   -0.216038   -0.488643      -0.567269      0.420373 \n",
       "  ⋮                                              ⋱                 ⋮        \n",
       "  0.0161614   0.100625    0.427577   -0.21763    …   0.0423418     0.328088 \n",
       " -0.166671   -0.456185   -0.240854   -0.545237      -0.0365344     0.361828 \n",
       "  0.0929075  -0.198825    0.218483   -0.519578      -0.533352      0.769877 \n",
       " -0.629726   -0.198069    0.304061   -0.429014      -0.538782     -0.0953182\n",
       "  0.173498    0.415859    0.256529    0.167189      -0.314585      0.285068 \n",
       " -0.112289   -0.248864   -0.0565276  -0.059568   …  -0.462366     -0.0548241\n",
       "  0.698211   -0.159712   -0.0186856  -0.509624       0.868664      0.202178 \n",
       "  0.405182    0.475287    0.0470512   0.973371       1.10212       0.851365 \n",
       " -1.2771     -0.439971   -0.160021   -0.459369       0.00839292    0.371748 \n",
       "  0.729959    0.0551646   0.687775   -0.709806       0.407285      0.444046 \n",
       "  0.841026    0.310191    0.321295    0.265555   …   0.925641      0.371411 \n",
       "  0.0342273   0.676536    0.074715    1.18534        0.814873    NaN        "
      ]
     },
     "execution_count": 16,
     "metadata": {},
     "output_type": "execute_result"
    }
   ],
   "source": [
    "# preprocess data to have unit standard error\n",
    "xdata_df = DataFrame(xdata)\n",
    "\n",
    "xdatamean = nanmean(xdata_df)\n",
    "# make correction (which I don't understand why being needed)\n",
    "tmp = size(xdata, 1) - sum(isnan.(xdata), 1)\n",
    "tmp = (tmp-1)./tmp\n",
    "xdatastd = nanstd(xdata_df).*sqrt.(tmp)\n",
    "\n",
    "data_standardized  = (xdata .- xdatamean)./xdatastd"
   ]
  },
  {
   "cell_type": "markdown",
   "metadata": {},
   "source": [
    "### only use datas with inclcode==1 "
   ]
  },
  {
   "cell_type": "code",
   "execution_count": 17,
   "metadata": {},
   "outputs": [
    {
     "data": {
      "text/plain": [
       "222×58 Array{Float64,2}:\n",
       "  0.173258    0.616121   -0.449517    …  -0.60472       0.196305 \n",
       " -2.11177     0.294728   -0.119795       -0.393958     -0.598907 \n",
       "  0.593892   -0.456492   -0.632765       -0.105092      1.76475  \n",
       "  0.289153    0.0588688   0.537598       -1.16179      -0.114897 \n",
       " -0.732752   -2.91457    -1.79397        -0.937152     -0.418518 \n",
       " -1.31736    -0.272196   -0.875153    …  -1.20846      -1.43494  \n",
       " -2.36533    -0.172815   -0.148152       -0.960779     -2.53669  \n",
       "  0.229095    0.924045    0.891152        1.12853      -1.47241  \n",
       "  0.35169    -1.85       -0.861188        1.15123      -0.319026 \n",
       "  1.13272     1.66387     0.919308        1.61024       0.0514838\n",
       "  0.258706   -0.297892    0.191752    …   0.443519      0.69363  \n",
       "  0.433345    1.02332    -0.40217        -0.374164      0.200718 \n",
       " -0.216038   -0.488643    0.124493       -0.567269      0.420373 \n",
       "  ⋮                                   ⋱                          \n",
       "  0.427577   -0.21763    -0.00601165  …   0.0423418     0.328088 \n",
       " -0.240854   -0.545237   -0.405563       -0.0365344     0.361828 \n",
       "  0.218483   -0.519578   -0.30329        -0.533352      0.769877 \n",
       "  0.304061   -0.429014   -0.626306       -0.538782     -0.0953182\n",
       "  0.256529    0.167189    0.945992       -0.314585      0.285068 \n",
       " -0.0565276  -0.059568   -0.743889    …  -0.462366     -0.0548241\n",
       " -0.0186856  -0.509624    0.290315        0.868664      0.202178 \n",
       "  0.0470512   0.973371    0.257383        1.10212       0.851365 \n",
       " -0.160021   -0.459369   -0.654878        0.00839292    0.371748 \n",
       "  0.687775   -0.709806    0.0960074       0.407285      0.444046 \n",
       "  0.321295    0.265555    0.219988    …   0.925641      0.371411 \n",
       "  0.074715    1.18534     0.651889        0.814873    NaN        "
      ]
     },
     "execution_count": 17,
     "metadata": {},
     "output_type": "execute_result"
    }
   ],
   "source": [
    "inclcode = readcsv(\"data/inclcode.csv\")\n",
    "data_standardized = data_standardized'[vec(inclcode.==1), :]'"
   ]
  },
  {
   "cell_type": "markdown",
   "metadata": {},
   "source": [
    "## Compute Total Sum of Squares"
   ]
  },
  {
   "cell_type": "code",
   "execution_count": 18,
   "metadata": {
    "scrolled": true
   },
   "outputs": [
    {
     "data": {
      "text/plain": [
       "12700.0"
      ]
     },
     "execution_count": 18,
     "metadata": {},
     "output_type": "execute_result"
    }
   ],
   "source": [
    "tss = sum(nansum(DataFrame(data_standardized.^2)))"
   ]
  },
  {
   "cell_type": "markdown",
   "metadata": {},
   "source": [
    "## Remove columns containing NaN"
   ]
  },
  {
   "cell_type": "code",
   "execution_count": 19,
   "metadata": {},
   "outputs": [
    {
     "data": {
      "text/plain": [
       "([0.173258 0.616121 … 0.258725 -0.60472; -2.11177 0.294728 … -1.11863 -0.393958; … ; 0.321295 0.265555 … 0.707057 0.925641; 0.074715 1.18534 … 0.555908 0.814873], Bool[true true … true false])"
      ]
     },
     "execution_count": 19,
     "metadata": {},
     "output_type": "execute_result"
    }
   ],
   "source": [
    "xbal, _ = dropna_col(data_standardized)"
   ]
  },
  {
   "cell_type": "markdown",
   "metadata": {},
   "source": [
    "# Least square"
   ]
  },
  {
   "cell_type": "code",
   "execution_count": 20,
   "metadata": {},
   "outputs": [
    {
     "data": {
      "text/plain": [
       "1"
      ]
     },
     "execution_count": 20,
     "metadata": {},
     "output_type": "execute_result"
    }
   ],
   "source": [
    "nt, ns = size(data_standardized)\n",
    "nfac_o = 0 # number of observed factors\n",
    "nfac_u = 1 # number of unobserved factors\n",
    "nfac_t = nfac_o + nfac_u # total number of factors"
   ]
  },
  {
   "cell_type": "markdown",
   "metadata": {},
   "source": [
    "## Obtain initial value by PCA"
   ]
  },
  {
   "cell_type": "code",
   "execution_count": 21,
   "metadata": {},
   "outputs": [
    {
     "data": {
      "text/plain": [
       "estimate! (generic function with 1 method)"
      ]
     },
     "execution_count": 21,
     "metadata": {},
     "output_type": "execute_result"
    }
   ],
   "source": [
    "function estimate!(xbal, xdatastd, data_standardized, data,\n",
    "                  initperiod, lastperiod, \n",
    "                  nfac_u, nfac_o, nfac_t, tol)#,\n",
    "                  #::LeastSquare, ::PCA)\n",
    "    # Get initial F_t given Lambda_t using PCA\n",
    "    f = pca_score(xbal, nfac_u)\n",
    "    ssr = 0\n",
    "    diff = 1000\n",
    "    while diff > tol*nt*ns\n",
    "        ssr_old = ssr\n",
    "        # given F_t, get Lambda_t\n",
    "        if size(data_standardized, 1) >= nt_min # if sample size is enough\n",
    "            lambda = nanols(data_standardized, f)[1]'\n",
    "        end\n",
    "        # given Lambda_t, get F_t\n",
    "        # by regressing X_t on Lambda_t for each t\n",
    "        tmp = nanols(data_standardized', lambda[:, nfac_o+1:end])\n",
    "        b, ehat = tmp[1]', tmp[2]\n",
    "        b = tmp[1]'\n",
    "        f = b\n",
    "#         ehat = data_standardized - f*lambda'\n",
    "        ssr = sum(nansum(ehat.^2))\n",
    "        diff = abs(ssr_old - ssr)\n",
    "        println(diff)\n",
    "    end\n",
    "\n",
    "    lambda = lambda.*xdatastd\n",
    "\n",
    "    fac_est = fill(NaN, size(data, 1), nfac_t)\n",
    "    fac_est[initperiod:end,  :] = f\n",
    "\n",
    "    return fac_est, lambda\n",
    "end"
   ]
  },
  {
   "cell_type": "code",
   "execution_count": 22,
   "metadata": {},
   "outputs": [
    {
     "data": {
      "text/plain": [
       "222×1 Array{Float64,2}:\n",
       "  3.59133  \n",
       "  3.81922  \n",
       " -4.8285   \n",
       "  3.57713  \n",
       "  7.32604  \n",
       "  9.797    \n",
       "  8.64339  \n",
       " -0.0988581\n",
       " -2.12375  \n",
       " -5.12746  \n",
       " -2.96291  \n",
       " -1.34933  \n",
       "  1.74576  \n",
       "  ⋮        \n",
       " -3.2693   \n",
       " -0.524436 \n",
       " -0.440566 \n",
       " -1.56502  \n",
       " -1.99228  \n",
       " -1.82968  \n",
       " -2.3149   \n",
       " -3.62214  \n",
       " -1.37052  \n",
       " -4.2118   \n",
       " -3.41265  \n",
       " -3.06683  "
      ]
     },
     "execution_count": 22,
     "metadata": {},
     "output_type": "execute_result"
    }
   ],
   "source": [
    "# Get F_t given Lambda_t\n",
    "f = pca_score(xbal, nfac_u)\n",
    "fa = f"
   ]
  },
  {
   "cell_type": "code",
   "execution_count": 23,
   "metadata": {},
   "outputs": [
    {
     "data": {
      "text/plain": [
       "224×1 Array{Float64,2}:\n",
       " NaN        \n",
       " NaN        \n",
       "   3.55906  \n",
       "   3.97141  \n",
       "  -5.29767  \n",
       "   3.52022  \n",
       "   7.35006  \n",
       "   9.7971   \n",
       "   8.80436  \n",
       "   0.0734791\n",
       "  -2.08731  \n",
       "  -5.13417  \n",
       "  -2.95774  \n",
       "   ⋮        \n",
       "  -3.28253  \n",
       "  -0.435026 \n",
       "  -0.489242 \n",
       "  -1.55541  \n",
       "  -2.36165  \n",
       "  -2.07796  \n",
       "  -1.93469  \n",
       "  -3.78706  \n",
       "  -1.45445  \n",
       "  -4.59681  \n",
       "  -3.16031  \n",
       "  -3.344    "
      ]
     },
     "execution_count": 23,
     "metadata": {},
     "output_type": "execute_result"
    }
   ],
   "source": [
    "lambda = Matrix{Float64}(ns, nfac_t)\n",
    "ssr = 0\n",
    "\n",
    "diff = 1000\n",
    "tol = 1e-8\n",
    "while diff > tol*nt*ns\n",
    "    ssr_old = ssr\n",
    "    # given F_t, get Lambda_t\n",
    "    for i = 1:ns\n",
    "        if size(data_standardized, 1) >= nt_min # if sample size is enough\n",
    "            xdata_stdi = data_standardized[:, i]\n",
    "            b, _, _ = nanols(xdata_stdi[:, 1], fa)\n",
    "            lambda[i, :] = b'\n",
    "        end\n",
    "    end\n",
    "\n",
    "    edata = data_standardized\n",
    "    # given Lambda_t, get F_t\n",
    "    for t = 1:nt\n",
    "        b, _, _ = nanols(edata[t, :], lambda[:, nfac_o+1:end])\n",
    "        f[t, :] = b'\n",
    "    end\n",
    "    fa = f\n",
    "    ehat = data_standardized - fa*lambda'\n",
    "    ssr = sum(nansum(ehat.^2))\n",
    "    diff = abs(ssr_old - ssr)\n",
    "    println(diff)\n",
    "end\n",
    "\n",
    "lambda = lambda.*xdatastd\n",
    "\n",
    "fac_est = fill(NaN, size(data, 1), nfac_t)\n",
    "fac_est[initperiod:end,  :] = fa\n",
    "\n",
    "fac = fac_est"
   ]
  },
  {
   "cell_type": "code",
   "execution_count": 24,
   "metadata": {},
   "outputs": [
    {
     "name": "stdout",
     "output_type": "stream",
     "text": [
      "7805.186076916562\n",
      "0.48167949559046974\n",
      "0.002725418577028904\n",
      "4.325549707573373e-5\n"
     ]
    },
    {
     "data": {
      "text/plain": [
       "([NaN; NaN; … ; -3.16031; -3.344], [-0.000891552 -0.000712904 … -0.783265 -0.00115543; -0.000863262 -0.000690283 … -0.758412 -0.00111877; … ; -0.00151168 -0.00120877 … -1.32807 -0.0019591; -0.000940908 -0.000752371 … -0.826627 -0.0012194])"
      ]
     },
     "execution_count": 24,
     "metadata": {},
     "output_type": "execute_result"
    }
   ],
   "source": [
    "fac_est, lambda = estimate!(xbal, xdatastd, data_standardized, data,\n",
    "                  initperiod, 1, \n",
    "                  nfac_u, nfac_o, nfac_t, 1e-8)"
   ]
  },
  {
   "cell_type": "markdown",
   "metadata": {},
   "source": [
    "The above code are mostly coming from `factor_estimation_ls.m`\n"
   ]
  },
  {
   "cell_type": "markdown",
   "metadata": {},
   "source": [
    "## Part of  `factor_estimation_ls_full.m`"
   ]
  },
  {
   "cell_type": "code",
   "execution_count": 25,
   "metadata": {},
   "outputs": [
    {
     "data": {
      "text/plain": [
       "224×1 Array{Float64,2}:\n",
       " NaN        \n",
       " NaN        \n",
       "   3.55906  \n",
       "   3.97141  \n",
       "  -5.29767  \n",
       "   3.52022  \n",
       "   7.35006  \n",
       "   9.7971   \n",
       "   8.80436  \n",
       "   0.0734791\n",
       "  -2.08731  \n",
       "  -5.13417  \n",
       "  -2.95774  \n",
       "   ⋮        \n",
       "  -3.28253  \n",
       "  -0.435026 \n",
       "  -0.489242 \n",
       "  -1.55541  \n",
       "  -2.36165  \n",
       "  -2.07796  \n",
       "  -1.93469  \n",
       "  -3.78706  \n",
       "  -1.45445  \n",
       "  -4.59681  \n",
       "  -3.16031  \n",
       "  -3.344    "
      ]
     },
     "execution_count": 25,
     "metadata": {},
     "output_type": "execute_result"
    },
    {
     "name": "stdout",
     "output_type": "stream",
     "text": [
      "7805.186076916561\n",
      "0.48167949558956025\n",
      "0.002725418577028904\n",
      "4.325549707573373e-5\n"
     ]
    }
   ],
   "source": [
    "fac = copy(fac_est)"
   ]
  },
  {
   "cell_type": "code",
   "execution_count": 26,
   "metadata": {},
   "outputs": [],
   "source": [
    "n_series = size(data, 2)\n",
    "n_uarlag = 4 # number of arlags for uniqueness\n",
    "\n",
    "lam_mat = Matrix{Float64}(n_series, nfac_t)\n",
    "uar_coef_mat = Matrix{Float64}(n_series, n_uarlag)\n",
    "uar_ser_mat = Vector{Float64}(n_series)\n",
    "r2_mat = Vector{Float64}(n_series)\n",
    "for is = 1:n_series\n",
    "    tmp, numrow = dropna_row([data[initperiod:end, is] fac[initperiod:end, :]])\n",
    "    if count(numrow) >= nt_min # if available sample size is large enough\n",
    "        bols, uhat = \n",
    "        ols(tmp[:, 1], [tmp[:, 2:end] ones(count(numrow))])\n",
    "        y_used = data[initperiod:end, is][numrow, :]\n",
    "        b = copy(bols)\n",
    "        lam_mat[is, :] = b[1:end-1]\n",
    "        ssr = sum(uhat.^2)\n",
    "        ym = y_used - mean(y_used)\n",
    "        tss = sum(ym.^2)\n",
    "        r2_mat[is] = 1-ssr/tss\n",
    "        if r2_mat[is] < 0.9999\n",
    "            arcoef, ser = uar(uhat, n_uarlag)\n",
    "        else\n",
    "            arcoef, ser = zeros(n_uarlag, 1), 0.0\n",
    "        end\n",
    "    end\n",
    "    uar_coef_mat[is, :] = arcoef'\n",
    "    uar_ser_mat[is, 1] = ser\n",
    "end"
   ]
  },
  {
   "cell_type": "markdown",
   "metadata": {},
   "source": [
    "# `varest.m`"
   ]
  },
  {
   "cell_type": "code",
   "execution_count": 27,
   "metadata": {},
   "outputs": [
    {
     "data": {
      "text/plain": [
       "estimate_var (generic function with 1 method)"
      ]
     },
     "execution_count": 27,
     "metadata": {},
     "output_type": "execute_result"
    }
   ],
   "source": [
    "function estimate_var(y, nlag::Integer, initperiod::Integer)\n",
    "    \n",
    "    T, ns = size(y, 1), size(y, 2)\n",
    "\n",
    "    x = [ones(T, 1) lagmat(y, 1:nlag)]\n",
    "    trend = initperiod:T\n",
    "    \n",
    "    y = y[initperiod:T, :]\n",
    "    x = x[initperiod:T, :]\n",
    "    \n",
    "    betahat, ehat, numrow = nanols(y, [x trend])\n",
    "    numrow = vec(numrow)\n",
    "    y_used, x_used = y[numrow, :], [x trend][numrow, :]\n",
    "\n",
    "    ndf = size(x_used, 1) - size(x_used, 2) # degree of freedom (T-K)\n",
    "    seps = ehat[numrow]'*ehat[numrow]/ndf# does not work with multiple dimensions, so need to fix\n",
    "\n",
    "    resid = fill(NaN, T, ns)\n",
    "#     resid[Int.(x_used[:, end]), :] = ehat\n",
    "    resid = ehat\n",
    "\n",
    "    b = betahat[2:end, :]'\n",
    "    const_coef = betahat[1, :]\n",
    "\n",
    "    M = zeros(size(b, 2), size(b, 2))\n",
    "    M[1:size(b, 1), :] = b\n",
    "\n",
    "    if size(b, 2) > size(b, 1)\n",
    "        M[size(b, 1)+1:end, 1:end-size(b, 1)] =\n",
    "            eye(size(b, 2)-size(b, 1))\n",
    "    end\n",
    "\n",
    "    Q = zeros(ns, size(M, 1))\n",
    "    Q[1:ns, 1:ns] = eye(ns)\n",
    "    G = zeros(size(M, 1), ns)\n",
    "    G[1:ns, 1:ns] = (chol(seps))'\n",
    "    return M, Q, G\n",
    "end"
   ]
  },
  {
   "cell_type": "code",
   "execution_count": 28,
   "metadata": {},
   "outputs": [
    {
     "data": {
      "text/plain": [
       "([0.898542 -0.195667 … -0.13101 0.000909197; 1.0 0.0 … 0.0 0.0; … ; 0.0 0.0 … 0.0 0.0; 0.0 0.0 … 1.0 0.0], [1.0 0.0 … 0.0 0.0], [2.83044; 0.0; … ; 0.0; 0.0])"
      ]
     },
     "execution_count": 28,
     "metadata": {},
     "output_type": "execute_result"
    }
   ],
   "source": [
    "M, Q, G = estimate_var(fac, 4, initperiod)"
   ]
  },
  {
   "cell_type": "markdown",
   "metadata": {},
   "source": [
    "`varest.m` part is done."
   ]
  },
  {
   "cell_type": "code",
   "execution_count": 29,
   "metadata": {},
   "outputs": [
    {
     "data": {
      "text/plain": [
       "fill_matrices! (generic function with 1 method)"
      ]
     },
     "execution_count": 29,
     "metadata": {},
     "output_type": "execute_result"
    }
   ],
   "source": [
    "\"\"\"\n",
    "VAR model can be expressed in state-space form:\n",
    "```math\n",
    "y_t = Qz_t\n",
    "```\n",
    "```\n",
    "z_t = Mz_{t-1}+Gu_t\n",
    "```\n",
    "where ``z_t`` has ``y_t`` and lagged ``y_t``s\n",
    "\"\"\"\n",
    "struct VARModel{TA <: AbstractArray, TM <: AbstractMatrix}\n",
    "    y::TA\n",
    "    nlag::Int\n",
    "    withconst::Bool\n",
    "    initperiod::Int\n",
    "    lastperiod::Int\n",
    "    T::Int\n",
    "    ns::Int\n",
    "    resid::TA\n",
    "    betahat::TA\n",
    "    M::TM\n",
    "    Q::TM\n",
    "    G::TM\n",
    "    seps::TM\n",
    "end\n",
    "function VARModel(y::AbstractArray, nlag::Integer=1; \n",
    "                  withconst::Bool=true,\n",
    "                  initperiod::Integer=1, lastperiod::Integer=size(y, 1))\n",
    "    T, ns = size(y, 1), size(y, 2)\n",
    "    resid = fill(NaN, size(y))\n",
    "    betahat = fill(NaN, nlag+1+withconst, ns)\n",
    "    M = fill(NaN, ns*nlag+1, ns*nlag+1)\n",
    "    Q = fill(NaN, ns, ns*nlag+1)\n",
    "    G = fill(NaN, ns*nlag+1, ns)\n",
    "    seps = fill(NaN, ns, ns)\n",
    "    return VARModel(y, nlag, withconst, initperiod, lastperiod, T, ns, resid, betahat, M, Q, G, seps)\n",
    "end\n",
    "function estimate_var!(varm::VARModel, compute_matrices::Bool=true)\n",
    "    initperiod, lastperiod = varm.initperiod, varm.lastperiod\n",
    "    withconst, nlag = varm.withconst, varm.nlag\n",
    "    resid, seps = varm.resid, varm.seps\n",
    "    \n",
    "    y_restricted = varm.y[initperiod:lastperiod, :]\n",
    "    trend = initperiod:lastperiod\n",
    "    \n",
    "    # regressors\n",
    "    withconst || (x = lagmat(y_restricted, 1:nlag))\n",
    "    !withconst || (x = [ones(lastperiod-initperiod+1) lagmat(y_restricted, 1:nlag)])\n",
    "    regressors = [x trend]\n",
    "    \n",
    "    # do OLS ignoring the samples containing NaN\n",
    "    betahat, ehat, numrows = nanols(y_restricted, regressors)\n",
    "    varm.betahat .= betahat\n",
    "    \n",
    "    T_used = count(numrows) # used sample size\n",
    "    K = size(regressors, 2) # number of regressors\n",
    "    \n",
    "    ndf = T_used - K # degree of freedom (T-K)\n",
    "    seps .= ehat[numrows]'*ehat[numrows]/ndf # covariance matrix of error term\n",
    "                                             # does not work with multiple dimensions, so need to fix\n",
    "    resid[initperiod:lastperiod, :] .= ehat\n",
    "    \n",
    "    !compute_matrices || fill_matrices!(varm, betahat)\n",
    "    return nothing\n",
    "end\n",
    "function fill_matrices!(varm::VARModel, betahat::Array)\n",
    "    ns, nlag = varm.ns, varm.nlag\n",
    "    M, Q, G = varm.M, varm.Q, varm.G\n",
    "    \n",
    "    b = betahat[2:end, :]' # now, each row corresponds to each equation\n",
    "\n",
    "    M .= zeros(ns*nlag+1, ns*nlag+1)\n",
    "    M[1:ns, :] .= b # coefficients of VAR\n",
    "    M[ns+1:end, 1:end-ns] .= eye(ns*nlag+1-ns)　# lag part\n",
    "\n",
    "    Q .= zeros(ns, ns*nlag+1)\n",
    "    Q[1:ns, 1:ns] .= eye(ns)\n",
    "    G .= zeros(ns*nlag+1, ns)\n",
    "    G[1:ns, 1:ns] .= (chol(varm.seps))'\n",
    "    return nothing\n",
    "end"
   ]
  },
  {
   "cell_type": "code",
   "execution_count": 30,
   "metadata": {},
   "outputs": [],
   "source": [
    "varm = VARModel(fac, 4, initperiod= initperiod)\n",
    "estimate_var!(varm)"
   ]
  },
  {
   "cell_type": "code",
   "execution_count": 31,
   "metadata": {},
   "outputs": [
    {
     "data": {
      "text/plain": [
       "5×5 Array{Float64,2}:\n",
       " 0.898542  -0.195667  0.105248  -0.13101  0.000909197\n",
       " 1.0        0.0       0.0        0.0      0.0        \n",
       " 0.0        1.0       0.0        0.0      0.0        \n",
       " 0.0        0.0       1.0        0.0      0.0        \n",
       " 0.0        0.0       0.0        1.0      0.0        "
      ]
     },
     "execution_count": 31,
     "metadata": {},
     "output_type": "execute_result"
    }
   ],
   "source": [
    "varm.M"
   ]
  },
  {
   "cell_type": "markdown",
   "metadata": {},
   "source": [
    "# Plotting"
   ]
  },
  {
   "cell_type": "code",
   "execution_count": 32,
   "metadata": {},
   "outputs": [
    {
     "data": {
      "text/plain": [
       "224×1 Array{Float64,2}:\n",
       " NaN          \n",
       " NaN          \n",
       " NaN          \n",
       " NaN          \n",
       "   0.00902449 \n",
       "  -0.0186939  \n",
       "  -0.0141709  \n",
       "  -0.0301671  \n",
       "  -0.0453175  \n",
       "  -0.0229932  \n",
       "  -0.00884106 \n",
       "   0.0235039  \n",
       "   0.0346782  \n",
       "   ⋮          \n",
       "   0.00394735 \n",
       "   0.000831648\n",
       "   0.0049777  \n",
       "  -0.00596135 \n",
       "  -0.00466148 \n",
       "  -0.00421219 \n",
       "   0.000788617\n",
       "   0.00933866 \n",
       "  -0.00264566 \n",
       "   0.0043127  \n",
       "   0.00549259 \n",
       "   0.00242789 "
      ]
     },
     "execution_count": 32,
     "metadata": {},
     "output_type": "execute_result"
    }
   ],
   "source": [
    "j = 1\n",
    "yf = lam_mat[j, :]' * fac'\n",
    "\n",
    "y4f = sum(lagmat(yf', 0:3), 2)\n",
    "y4 = sum(lagmat(data[:, 1], 0:3), 2)"
   ]
  },
  {
   "cell_type": "code",
   "execution_count": null,
   "metadata": {},
   "outputs": [],
   "source": [
    "plot(year, [100*y4 100*y4f], lw=2, lab=[\"GDP\" \"Common Component\"])"
   ]
  },
  {
   "cell_type": "code",
   "execution_count": null,
   "metadata": {},
   "outputs": [],
   "source": []
  },
  {
   "cell_type": "code",
   "execution_count": null,
   "metadata": {},
   "outputs": [],
   "source": []
  }
 ],
 "metadata": {
  "hide_input": false,
  "kernelspec": {
   "display_name": "Julia 0.6.4",
   "language": "julia",
   "name": "julia-0.6"
  },
  "language_info": {
   "file_extension": ".jl",
   "mimetype": "application/julia",
   "name": "julia",
   "version": "0.6.4"
  },
  "toc": {
   "colors": {
    "hover_highlight": "#DAA520",
    "running_highlight": "#FF0000",
    "selected_highlight": "#FFD700"
   },
   "moveMenuLeft": true,
   "nav_menu": {
    "height": "310px",
    "width": "252px"
   },
   "navigate_menu": true,
   "number_sections": true,
   "sideBar": true,
   "threshold": 4,
   "toc_cell": false,
   "toc_section_display": "block",
   "toc_window_display": false
  }
 },
 "nbformat": 4,
 "nbformat_minor": 2
}
