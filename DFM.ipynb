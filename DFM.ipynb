{
 "cells": [
  {
   "cell_type": "code",
   "execution_count": 1,
   "metadata": {},
   "outputs": [
    {
     "data": {
      "text/plain": [
       "Plots.PyPlotBackend()"
      ]
     },
     "execution_count": 1,
     "metadata": {},
     "output_type": "execute_result"
    }
   ],
   "source": [
    "using DataFrames\n",
    "using Plots\n",
    "pyplot()"
   ]
  },
  {
   "cell_type": "markdown",
   "metadata": {},
   "source": [
    "# Description of DFM"
   ]
  },
  {
   "cell_type": "markdown",
   "metadata": {},
   "source": [
    "## Static Form of the DFM\n",
    "Equation (6) \n",
    "$$X_t=\\Lambda F_t+e_t$$\n",
    "Equation (7)\n",
    "$$F_t=\\Phi(L)F_{t-1}+G\\eta_t$$"
   ]
  },
  {
   "cell_type": "markdown",
   "metadata": {},
   "source": [
    "### Principal Components Normalization\n",
    "Equation (11) in the paper\n",
    "$$\\frac{1}{N}\\Lambda'\\Lambda=I_r$$ and $\\Sigma_F\\equiv E\\left[F_tF_t^\\prime\\right]$ diagonal."
   ]
  },
  {
   "cell_type": "markdown",
   "metadata": {},
   "source": [
    "#### Principal Components Estimation\n",
    "Equation (13)\n",
    "$$\\min_{F_1,\\dots,F_T,\\Lambda}V_r(\\Lambda,F)$$\n",
    "where\n",
    "$$V_r\\left(\\Lambda,F\\right)=\\frac{1}{NT}\\sum_{t=1}^T\\left(X_t-\\Lambda F_t\\right)'\\left(X_t-\\Lambda F_t\\right)$$"
   ]
  },
  {
   "cell_type": "markdown",
   "metadata": {},
   "source": [
    "# Figure 1\n",
    "Figure 1 assumes there is only one factor which evoles as\n",
    "$$f_t = \\Psi_4f_{t-1=}+\\dots+\\Psi_4f_{t-4}.$$\n",
    "All observed variables $y_t$ depend on the current value of $f$ and from first to fourth lags of $f$, and constant:\n",
    "$$X_{it} = \\lambda_i+\\lambda_{i0}f_t+\\lambda_{i1}f_{t1}+\\dots+\\lambda_{i4}f_{t4}.$$"
   ]
  },
  {
   "cell_type": "code",
   "execution_count": 2,
   "metadata": {},
   "outputs": [
    {
     "data": {
      "text/plain": [
       "20"
      ]
     },
     "execution_count": 2,
     "metadata": {},
     "output_type": "execute_result"
    }
   ],
   "source": [
    "nt_min = 20 # min number of obs for any series used to est factors"
   ]
  },
  {
   "cell_type": "markdown",
   "metadata": {},
   "source": [
    "#### Useful functions"
   ]
  },
  {
   "cell_type": "code",
   "execution_count": 3,
   "metadata": {},
   "outputs": [
    {
     "data": {
      "text/plain": [
       "nansum (generic function with 1 method)"
      ]
     },
     "execution_count": 3,
     "metadata": {},
     "output_type": "execute_result"
    }
   ],
   "source": [
    "nanf(f::Function, x) = f(filter(!isnan, x))\n",
    "nanmean(x) = nanf(mean, x)\n",
    "nanstd(x) = nanf(std, x)\n",
    "nansum(x) = nanf(sum, x)"
   ]
  },
  {
   "cell_type": "code",
   "execution_count": 4,
   "metadata": {},
   "outputs": [
    {
     "data": {
      "text/plain": [
       "nansum (generic function with 2 methods)"
      ]
     },
     "execution_count": 4,
     "metadata": {},
     "output_type": "execute_result"
    }
   ],
   "source": [
    "apply_f_vertically(f::Function, df::DataFrame) =\n",
    "    Matrix(map(f, eachcol(df)))\n",
    "nanmean(df::DataFrame) = apply_f_vertically(nanmean, df)\n",
    "nanstd(df::DataFrame) = apply_f_vertically(nanstd, df)\n",
    "nansum(df::DataFrame) = apply_f_vertically(nansum, df)"
   ]
  },
  {
   "cell_type": "code",
   "execution_count": 5,
   "metadata": {},
   "outputs": [
    {
     "data": {
      "text/plain": [
       "dropna_col (generic function with 1 method)"
      ]
     },
     "execution_count": 5,
     "metadata": {},
     "output_type": "execute_result"
    }
   ],
   "source": [
    "function dropna_row(df::DataFrame)\n",
    "    numrows = completecases(df)\n",
    "    return df[numrows, :], numrows\n",
    "end\n",
    "function dropna_col(df::DataFrame) \n",
    "    df_dropped, numcolt= dropna_row(df')\n",
    "    return df_dropped', numcolt'\n",
    "end"
   ]
  },
  {
   "cell_type": "code",
   "execution_count": 6,
   "metadata": {},
   "outputs": [
    {
     "data": {
      "text/plain": [
       "dropna_col (generic function with 2 methods)"
      ]
     },
     "execution_count": 6,
     "metadata": {},
     "output_type": "execute_result"
    }
   ],
   "source": [
    "\"\"\"\n",
    "##### Outputs\n",
    "- `numrow`: Vector of Bool where false indicates the row has `NaN` data.\n",
    "\"\"\"\n",
    "function dropna_row(A::Matrix)\n",
    "    numrow = .!vec(any(isnan.(A), 2))\n",
    "    return A[numrow, :], numrow\n",
    "end\n",
    "\"\"\"\n",
    "##### Outputs\n",
    "- `numcolt'`: RowVector of Bool where false indicates the column has `NaN` data.\n",
    "\"\"\"\n",
    "function dropna_col(A::Matrix)\n",
    "    At_dropped, numcolt = dropna_row(A')\n",
    "    return At_dropped', numcolt'\n",
    "end"
   ]
  },
  {
   "cell_type": "code",
   "execution_count": 7,
   "metadata": {},
   "outputs": [
    {
     "data": {
      "text/plain": [
       "pca_score (generic function with 1 method)"
      ]
     },
     "execution_count": 7,
     "metadata": {},
     "output_type": "execute_result"
    }
   ],
   "source": [
    "function pca_score(X, nfac_u)\n",
    "    _, _, V = svd(X)\n",
    "    score = (X*V)[:, 1:nfac_u]\n",
    "    return score\n",
    "end"
   ]
  },
  {
   "cell_type": "code",
   "execution_count": 8,
   "metadata": {},
   "outputs": [
    {
     "data": {
      "text/plain": [
       "nanols"
      ]
     },
     "execution_count": 8,
     "metadata": {},
     "output_type": "execute_result"
    }
   ],
   "source": [
    "\"\"\"\n",
    "##### Arguments\n",
    "- `y::AbstractVector`: length `T` Vector or `TxN` Matrix where `T`\n",
    "                       is sample size and `N` is the number of \n",
    "                       regressed variables\n",
    "- `X::AbstractArray`: `TxK` Matrix where `K` is the number of\n",
    "                      regressors\n",
    "##### Outputs\n",
    "- `b`: OLS estimator of the coefficients\n",
    "- `e`: residual\n",
    "\"\"\"\n",
    "function ols(y::AbstractArray, X::AbstractArray)\n",
    "    b = X\\y\n",
    "    e = y - X*b\n",
    "    return b, e\n",
    "end\n",
    "\n",
    "\"\"\"\n",
    "do OLS ignoring samples containing NaN\n",
    "\"\"\"\n",
    "function nanols(y::AbstractArray, X::AbstractArray)\n",
    "    N = size(y, 2)\n",
    "    tmp, numrow = dropna_row([y X])\n",
    "    y_used, x_used = tmp[:, 1:N], tmp[:, N+1:end]\n",
    "    b, e = ols(y_used, x_used)\n",
    "    return b, e, numrow\n",
    "end"
   ]
  },
  {
   "cell_type": "code",
   "execution_count": 9,
   "metadata": {},
   "outputs": [
    {
     "data": {
      "text/plain": [
       "lagmat (generic function with 2 methods)"
      ]
     },
     "execution_count": 9,
     "metadata": {},
     "output_type": "execute_result"
    }
   ],
   "source": [
    "function lagmat(X::Array, lags::AbstractVector)\n",
    "    nc = size(X, 2)\n",
    "    Xlag = fill(NaN, size(X, 1), nc*length(lags))\n",
    "    for (i, lag) in enumerate(lags)\n",
    "        Xlag[lag+1:end, nc*(i-1)+1:nc*i] .= X[1:end-lag, :]\n",
    "    end\n",
    "    return Xlag\n",
    "end\n",
    "lagmat(X::Array, lag::Integer) = lagmat(X, [lag])"
   ]
  },
  {
   "cell_type": "code",
   "execution_count": 10,
   "metadata": {},
   "outputs": [
    {
     "data": {
      "text/plain": [
       "lag"
      ]
     },
     "execution_count": 10,
     "metadata": {},
     "output_type": "execute_result"
    }
   ],
   "source": [
    "\"\"\"\n",
    "`x::Array`: `nxk` matrix or vector of length `n` \n",
    "`xlag::Matrix`: `nxk` matrix\n",
    "\"\"\"\n",
    "function lag(x::Array, p::Integer)\n",
    "    if p >= 0\n",
    "        return vcat(fill(NaN, p, size(x, 2)), x[1:end-p, :])\n",
    "    else\n",
    "        return vcat(x[1-p:end, :], fill(NaN, -p, size(x, 2)))\n",
    "    end\n",
    "end"
   ]
  },
  {
   "cell_type": "code",
   "execution_count": 11,
   "metadata": {},
   "outputs": [
    {
     "data": {
      "text/plain": [
       "uar (generic function with 1 method)"
      ]
     },
     "execution_count": 11,
     "metadata": {},
     "output_type": "execute_result"
    }
   ],
   "source": [
    "function uar(y::Array, n_lags::Integer)\n",
    "    x = Matrix{Float64}(size(y, 1), size(y, 2)*n_lags)\n",
    "    for i = 1:n_lags\n",
    "        x[:, size(y, 2)*(i-1)+1:size(y, 2)*i] = lag(y, i)\n",
    "    end\n",
    "    bols, ehat, _ = nanols(y, x)\n",
    "    ssr = dot(ehat, ehat)\n",
    "    ser = sqrt(ssr/(size(x, 1)-size(x, 2)))\n",
    "    arcoef = bols\n",
    "    return arcoef, ser\n",
    "end"
   ]
  },
  {
   "cell_type": "markdown",
   "metadata": {},
   "source": [
    "## Import data"
   ]
  },
  {
   "cell_type": "code",
   "execution_count": 12,
   "metadata": {},
   "outputs": [
    {
     "data": {
      "text/plain": [
       "224×86 Array{Float64,2}:\n",
       " NaN            NaN            NaN            …  12.3235     NaN          \n",
       "   0.0142268      0.00530395     0.0228269        9.45272      0.0152701  \n",
       "  -0.0116989      0.000417996    0.0050264       -4.38442      0.00203857 \n",
       "  -0.00581949    -0.00882744    -0.0629256       -2.85467     -0.00647572 \n",
       "   0.012316      -0.000459845    0.0175352       -0.758017     0.0188318  \n",
       "  -0.0134915      0.00268641     0.0084729    …  -8.42778     -0.00129345 \n",
       "  -0.00717594    -0.0139067     -0.0219165       -6.79728     -0.00454431 \n",
       "  -0.0218157     -0.00861225    -0.0393015       -8.76649     -0.0154271  \n",
       "  -0.00283434    -0.0101246     -0.0704661       -6.96877     -0.0272235  \n",
       "   0.00883281     0.00493428     0.0066869        8.19584     -0.0158283  \n",
       "   0.00697616    -0.00494625     0.0103326    …   8.36063     -0.00347905 \n",
       "   0.0105292      0.0100276      0.0335589       11.6922       0.000487977\n",
       "   0.00833999     0.000812098    0.00756745       3.22391      0.0073634  \n",
       "   ⋮                                          ⋱                ⋮          \n",
       "   6.28e-5        0.000590848    0.0125893        0.312088     0.00344957 \n",
       "  -0.0014477     -0.00308755    -0.00728845      -0.260412     0.00381082 \n",
       "   0.00069685    -0.00138738     0.0063713       -3.86642      0.00817978 \n",
       "  -0.00527329    -0.00138238     0.00891624   …  -3.90583     -0.00108383 \n",
       "   0.00136266     0.00267335     0.00750272      -2.27856      0.00298895 \n",
       "  -0.000998409   -0.00171795    -0.00180695      -3.35118     -0.000650257\n",
       "   0.00569766    -0.00112899    -0.000681604      6.3097       0.00210145 \n",
       "   0.00327675     0.00306594     0.00127327       8.00418      0.00905227 \n",
       "  -0.0106217     -0.00298043    -0.00488462   …   0.0656793    0.00391703 \n",
       "   0.00595995     0.00029053     0.0203271        2.96092      0.00469112 \n",
       "   0.00687755     0.00197529     0.00942875       6.72325      0.00391343 \n",
       "   0.000212054    0.00439543     0.00209594       5.91928    NaN          "
      ]
     },
     "execution_count": 12,
     "metadata": {},
     "output_type": "execute_result"
    }
   ],
   "source": [
    "data = readcsv(\"data/bpdata.csv\")\n",
    "header = data[1, :]\n",
    "year = data[2:end, 1]\n",
    "data = Float64.(data[2:end, 2:end])"
   ]
  },
  {
   "cell_type": "markdown",
   "metadata": {},
   "source": [
    "## Restrict sample"
   ]
  },
  {
   "cell_type": "code",
   "execution_count": 13,
   "metadata": {},
   "outputs": [
    {
     "data": {
      "text/plain": [
       "222×86 Array{Float64,2}:\n",
       " -0.0116989     0.000417996   0.0050264    …  -4.38442      0.00203857 \n",
       " -0.00581949   -0.00882744   -0.0629256       -2.85467     -0.00647572 \n",
       "  0.012316     -0.000459845   0.0175352       -0.758017     0.0188318  \n",
       " -0.0134915     0.00268641    0.0084729       -8.42778     -0.00129345 \n",
       " -0.00717594   -0.0139067    -0.0219165       -6.79728     -0.00454431 \n",
       " -0.0218157    -0.00861225   -0.0393015    …  -8.76649     -0.0154271  \n",
       " -0.00283434   -0.0101246    -0.0704661       -6.96877     -0.0272235  \n",
       "  0.00883281    0.00493428    0.0066869        8.19584     -0.0158283  \n",
       "  0.00697616   -0.00494625    0.0103326        8.36063     -0.00347905 \n",
       "  0.0105292     0.0100276     0.0335589       11.6922       0.000487977\n",
       "  0.00833999    0.000812098   0.00756745   …   3.22391      0.0073634  \n",
       "  0.0012303     0.0024063     0.0127609       -2.711        0.00208582 \n",
       "  1.74e-5      -0.0016512    -0.00655048      -4.1126       0.00443766 \n",
       "  ⋮                                        ⋱                ⋮          \n",
       "  6.28e-5       0.000590848   0.0125893    …   0.312088     0.00344957 \n",
       " -0.0014477    -0.00308755   -0.00728845      -0.260412     0.00381082 \n",
       "  0.00069685   -0.00138738    0.0063713       -3.86642      0.00817978 \n",
       " -0.00527329   -0.00138238    0.00891624      -3.90583     -0.00108383 \n",
       "  0.00136266    0.00267335    0.00750272      -2.27856      0.00298895 \n",
       " -0.000998409  -0.00171795   -0.00180695   …  -3.35118     -0.000650257\n",
       "  0.00569766   -0.00112899   -0.000681604      6.3097       0.00210145 \n",
       "  0.00327675    0.00306594    0.00127327       8.00418      0.00905227 \n",
       " -0.0106217    -0.00298043   -0.00488462       0.0656793    0.00391703 \n",
       "  0.00595995    0.00029053    0.0203271        2.96092      0.00469112 \n",
       "  0.00687755    0.00197529    0.00942875   …   6.72325      0.00391343 \n",
       "  0.000212054   0.00439543    0.00209594       5.91928    NaN          "
      ]
     },
     "execution_count": 13,
     "metadata": {},
     "output_type": "execute_result"
    }
   ],
   "source": [
    "initperiod = 3 # first two observations are dropped\n",
    "\n",
    "# exclude year data\n",
    "xdata = Float64.(data[initperiod:end, :])"
   ]
  },
  {
   "cell_type": "markdown",
   "metadata": {},
   "source": [
    "## Standardize data"
   ]
  },
  {
   "cell_type": "code",
   "execution_count": 14,
   "metadata": {},
   "outputs": [
    {
     "data": {
      "text/html": [
       "<table class=\"data-frame\"><thead><tr><th></th><th>x1</th><th>x2</th><th>x3</th><th>x4</th><th>x5</th><th>x6</th><th>x7</th><th>x8</th><th>x9</th><th>x10</th><th>x11</th><th>x12</th><th>x13</th><th>x14</th><th>x15</th><th>x16</th><th>x17</th><th>x18</th><th>x19</th><th>x20</th><th>x21</th><th>x22</th><th>x23</th><th>x24</th><th>x25</th><th>x26</th><th>x27</th><th>x28</th><th>x29</th><th>x30</th><th>x31</th><th>x32</th><th>x33</th><th>x34</th><th>x35</th><th>x36</th><th>x37</th><th>x38</th><th>x39</th><th>x40</th><th>x41</th><th>x42</th><th>x43</th><th>x44</th><th>x45</th><th>x46</th><th>x47</th><th>x48</th><th>x49</th><th>x50</th><th>x51</th><th>x52</th><th>x53</th><th>x54</th><th>x55</th><th>x56</th><th>x57</th><th>x58</th><th>x59</th><th>x60</th><th>x61</th><th>x62</th><th>x63</th><th>x64</th><th>x65</th><th>x66</th><th>x67</th><th>x68</th><th>x69</th><th>x70</th><th>x71</th><th>x72</th><th>x73</th><th>x74</th><th>x75</th><th>x76</th><th>x77</th><th>x78</th><th>x79</th><th>x80</th><th>x81</th><th>x82</th><th>x83</th><th>x84</th><th>x85</th><th>x86</th></tr></thead><tbody><tr><th>1</th><td>-0.0116989</td><td>0.000417996</td><td>0.0050264</td><td>0.00246625</td><td>-0.00326463</td><td>-0.0790124</td><td>-0.00147975</td><td>0.0152494</td><td>0.0118482</td><td>-0.024915</td><td>-0.00498891</td><td>0.00169134</td><td>0.00930034</td><td>-0.0202841</td><td>-0.00935316</td><td>0.0144959</td><td>-0.00573149</td><td>-0.0116777</td><td>-0.015238</td><td>-0.0152102</td><td>-0.0525197</td><td>0.00228093</td><td>0.000971413</td><td>-0.120124</td><td>-0.194273</td><td>-0.00975078</td><td>-0.0102119</td><td>-0.046722</td><td>0.00410129</td><td>0.00205324</td><td>NaN</td><td>-0.00610939</td><td>-0.00668619</td><td>-0.0104329</td><td>-0.00291447</td><td>-0.0112856</td><td>-0.0213455</td><td>0.00520428</td><td>-0.00943522</td><td>-0.00440014</td><td>-0.000743416</td><td>-0.00819408</td><td>-0.00570289</td><td>-0.00245758</td><td>-0.00394874</td><td>-0.0340392</td><td>-0.00120518</td><td>-0.00260217</td><td>0.000426697</td><td>0.0068248</td><td>-0.004025</td><td>-0.00662232</td><td>-0.000251359</td><td>-0.00320003</td><td>0.000580855</td><td>0.167021</td><td>0.404021</td><td>-0.156578</td><td>0.717014</td><td>0.281716</td><td>-0.133852</td><td>0.0582626</td><td>0.163721</td><td>0.0289703</td><td>-0.201499</td><td>NaN</td><td>NaN</td><td>NaN</td><td>NaN</td><td>0.0360857</td><td>-0.0124779</td><td>-0.00691635</td><td>-0.0533992</td><td>NaN</td><td>-0.0770044</td><td>-13.9848</td><td>-0.0252816</td><td>-0.00118184</td><td>-0.0989509</td><td>-0.0596414</td><td>-0.015713</td><td>0.00104151</td><td>2.50052</td><td>1.51749</td><td>-4.38442</td><td>0.00203857</td></tr><tr><th>2</th><td>-0.00581949</td><td>-0.00882744</td><td>-0.0629256</td><td>0.00114872</td><td>-0.000902454</td><td>0.0198127</td><td>-0.0236725</td><td>-0.0187833</td><td>-0.0173627</td><td>-0.0347269</td><td>-0.000507128</td><td>-0.0149292</td><td>-0.0137298</td><td>-0.00462032</td><td>-0.0154895</td><td>-0.043808</td><td>-0.0407816</td><td>-0.00313488</td><td>-0.0118466</td><td>-0.00827169</td><td>-0.00593753</td><td>-0.0221506</td><td>-0.0203229</td><td>0.0129465</td><td>0.0304035</td><td>-0.0231772</td><td>-0.0656206</td><td>-0.167345</td><td>-0.00367598</td><td>-0.0269791</td><td>NaN</td><td>-0.00246852</td><td>-0.00363068</td><td>-0.00394525</td><td>-0.0002516</td><td>-0.00597977</td><td>-0.00552602</td><td>-0.00165274</td><td>-0.0176718</td><td>0.00174036</td><td>-0.000402132</td><td>-0.00452372</td><td>-0.000653176</td><td>-0.00190623</td><td>0.00135556</td><td>0.000908343</td><td>-0.00259309</td><td>0.00419802</td><td>-0.00233556</td><td>-0.0011628</td><td>0.0111912</td><td>-0.00126177</td><td>0.00254587</td><td>-0.00398937</td><td>-3.11e-5</td><td>0.332866</td><td>0.303909</td><td>-0.0111704</td><td>0.18326</td><td>0.347291</td><td>0.198872</td><td>0.0633321</td><td>0.0471377</td><td>0.1077</td><td>-0.0155907</td><td>NaN</td><td>NaN</td><td>NaN</td><td>NaN</td><td>0.0594418</td><td>-0.00401506</td><td>-0.00382656</td><td>-0.3175</td><td>NaN</td><td>-0.176789</td><td>-15.217</td><td>-0.00819928</td><td>-0.0263144</td><td>0.00191831</td><td>-0.0167168</td><td>0.00366857</td><td>-0.0364612</td><td>0.088743</td><td>-6.33572</td><td>-2.85467</td><td>-0.00647572</td></tr><tr><th>3</th><td>0.012316</td><td>-0.000459845</td><td>0.0175352</td><td>-0.00193086</td><td>-0.00457743</td><td>0.0836151</td><td>0.0208606</td><td>0.017329</td><td>0.0195644</td><td>0.0242492</td><td>0.00758827</td><td>-0.0237988</td><td>-0.04217</td><td>0.0640172</td><td>0.00644621</td><td>0.101338</td><td>0.0221842</td><td>0.00158135</td><td>0.0188524</td><td>0.014404</td><td>0.0478876</td><td>0.0255475</td><td>0.0282044</td><td>0.0827874</td><td>0.13637</td><td>0.0148426</td><td>0.110026</td><td>0.287095</td><td>-0.00137879</td><td>0.0244213</td><td>NaN</td><td>0.00658649</td><td>0.00769614</td><td>0.0213344</td><td>0.00246661</td><td>0.0144694</td><td>0.0340982</td><td>0.00311673</td><td>-0.0200881</td><td>0.00181508</td><td>0.000463413</td><td>0.0112676</td><td>0.00491343</td><td>0.00378385</td><td>0.00179794</td><td>0.0123577</td><td>0.00216076</td><td>0.000770416</td><td>0.00357785</td><td>-0.00213772</td><td>0.0083604</td><td>-0.00794368</td><td>-0.00010133</td><td>-0.00040705</td><td>-0.467302</td><td>-0.467931</td><td>-0.418495</td><td>-0.0207706</td><td>-1.01713</td><td>-0.420443</td><td>-0.335051</td><td>-0.0918873</td><td>-0.128545</td><td>-0.0109528</td><td>-0.035159</td><td>NaN</td><td>NaN</td><td>NaN</td><td>NaN</td><td>-0.10168</td><td>-0.00582102</td><td>0.002195</td><td>-0.114883</td><td>NaN</td><td>0.156753</td><td>-15.1148</td><td>0.0160026</td><td>0.00738099</td><td>-0.0146345</td><td>-0.00380261</td><td>-0.070814</td><td>-0.051811</td><td>-19.9552</td><td>1.67848</td><td>-0.758017</td><td>0.0188318</td></tr><tr><th>4</th><td>-0.0134915</td><td>0.00268641</td><td>0.0084729</td><td>0.000181831</td><td>0.00380718</td><td>-0.109974</td><td>-0.0302803</td><td>-2.92e-5</td><td>-8.04e-6</td><td>-0.0913899</td><td>-0.00216077</td><td>0.0040144</td><td>-0.00177329</td><td>-0.0193272</td><td>0.0137121</td><td>0.0449954</td><td>-0.0075092</td><td>-0.00396232</td><td>-0.0220478</td><td>-0.0194146</td><td>-0.0325454</td><td>-0.0110202</td><td>-0.00459917</td><td>-0.0610088</td><td>-0.0933122</td><td>-0.0224446</td><td>-0.0288768</td><td>-0.0335815</td><td>0.00425439</td><td>-0.0204477</td><td>NaN</td><td>-0.00383928</td><td>-0.00461884</td><td>-0.0127354</td><td>-0.000178801</td><td>-0.00997505</td><td>-0.0201285</td><td>-0.0020271</td><td>0.00353996</td><td>-0.00175089</td><td>-0.000672862</td><td>-0.00622956</td><td>-0.00398063</td><td>0.00296937</td><td>-0.00183335</td><td>-0.00521506</td><td>0.00140513</td><td>0.000675359</td><td>0.00204922</td><td>-0.00279134</td><td>0.00452911</td><td>0.000650225</td><td>-0.00111869</td><td>0.00811094</td><td>0.632099</td><td>0.0979651</td><td>0.151858</td><td>-0.0586832</td><td>-0.250825</td><td>0.0451832</td><td>0.0643789</td><td>0.0844154</td><td>0.0129512</td><td>-0.0387032</td><td>-0.0863974</td><td>NaN</td><td>NaN</td><td>NaN</td><td>NaN</td><td>0.11523</td><td>0.00680841</td><td>-0.00221081</td><td>-0.41222</td><td>NaN</td><td>-0.409711</td><td>-18.0118</td><td>-0.0232244</td><td>0.0037975</td><td>-0.013849</td><td>-0.0237495</td><td>-0.0616635</td><td>0.0255509</td><td>-23.5312</td><td>-6.2066</td><td>-8.42778</td><td>-0.00129345</td></tr><tr><th>5</th><td>-0.00717594</td><td>-0.0139067</td><td>-0.0219165</td><td>-0.0120076</td><td>-0.0128964</td><td>-0.0146509</td><td>-0.0335632</td><td>-0.0607614</td><td>-0.0322223</td><td>-0.036276</td><td>-0.000534617</td><td>0.0173196</td><td>0.026531</td><td>-0.0164603</td><td>0.00443057</td><td>-0.0421371</td><td>-0.044836</td><td>-0.00842642</td><td>-0.0129997</td><td>-0.00900867</td><td>-0.027139</td><td>-0.0240623</td><td>-0.0217445</td><td>-0.0317547</td><td>-0.0386058</td><td>-0.026226</td><td>-0.0517979</td><td>-0.0466235</td><td>-0.0104432</td><td>-0.0282453</td><td>NaN</td><td>-0.0112811</td><td>-0.0117719</td><td>-0.0155788</td><td>-0.00870147</td><td>-0.0155555</td><td>-0.0204862</td><td>-0.00853685</td><td>-0.0141597</td><td>-0.00397878</td><td>-0.000603966</td><td>-0.0124</td><td>-0.00706423</td><td>-0.0122488</td><td>-0.00364005</td><td>-0.0191741</td><td>-0.011102</td><td>-0.0083886</td><td>-0.012137</td><td>-0.00319133</td><td>0.00034005</td><td>0.00442978</td><td>0.000155808</td><td>-0.0053853</td><td>-0.0351604</td><td>0.297219</td><td>0.259574</td><td>0.0329426</td><td>0.282179</td><td>0.444167</td><td>0.19716</td><td>-0.0190036</td><td>0.117428</td><td>0.15284</td><td>0.0539253</td><td>NaN</td><td>NaN</td><td>NaN</td><td>NaN</td><td>0.0476187</td><td>-0.0045676</td><td>-0.00965747</td><td>-0.742851</td><td>NaN</td><td>-0.0761812</td><td>-20.9083</td><td>-0.0177454</td><td>-0.0232186</td><td>0.0123039</td><td>0.00692888</td><td>-0.0282839</td><td>-0.0550586</td><td>-18.5059</td><td>-9.55762</td><td>-6.79728</td><td>-0.00454431</td></tr><tr><th>6</th><td>-0.0218157</td><td>-0.00861225</td><td>-0.0393015</td><td>-0.00117535</td><td>-0.00631393</td><td>-0.129481</td><td>-0.0138829</td><td>-0.0524308</td><td>-0.0167983</td><td>-0.00696192</td><td>-0.0125851</td><td>1.54e-5</td><td>-3.82e-5</td><td>-0.0231379</td><td>0.00103255</td><td>0.00399799</td><td>-0.0632626</td><td>-0.0105868</td><td>-0.0317728</td><td>-0.0284479</td><td>-0.0349106</td><td>-0.0222334</td><td>-0.0163929</td><td>-0.0532341</td><td>-0.076666</td><td>-0.0335413</td><td>-0.0393048</td><td>-0.0418729</td><td>-0.00814756</td><td>-0.0356234</td><td>NaN</td><td>-0.0120676</td><td>-0.0141637</td><td>-0.0205835</td><td>-0.00698298</td><td>-0.0211016</td><td>-0.0275449</td><td>-0.0107278</td><td>-0.0244909</td><td>-0.00436336</td><td>-0.00327307</td><td>-0.0159923</td><td>-0.00851203</td><td>-0.00889579</td><td>-0.00454992</td><td>-0.0169851</td><td>-0.0108683</td><td>-0.000630663</td><td>-0.00996009</td><td>-0.0103737</td><td>0.00293996</td><td>-0.00172509</td><td>-0.00192819</td><td>-0.00761179</td><td>0.0309196</td><td>0.729831</td><td>0.544699</td><td>0.190101</td><td>1.11521</td><td>0.609843</td><td>0.763292</td><td>0.0771538</td><td>0.105537</td><td>0.190275</td><td>0.274408</td><td>NaN</td><td>NaN</td><td>NaN</td><td>NaN</td><td>0.0697459</td><td>-0.0145615</td><td>-0.0133166</td><td>-1.27345</td><td>NaN</td><td>-0.209323</td><td>-24.8043</td><td>-0.015285</td><td>-0.0126587</td><td>-0.0604681</td><td>-0.0308531</td><td>-0.0326133</td><td>-0.0325954</td><td>-17.4794</td><td>-9.90787</td><td>-8.76649</td><td>-0.0154271</td></tr><tr><th>7</th><td>-0.00283434</td><td>-0.0101246</td><td>-0.0704661</td><td>-0.00076794</td><td>-0.00110561</td><td>0.0135852</td><td>-0.0203666</td><td>-0.0496568</td><td>-0.0288394</td><td>-0.00185014</td><td>-0.00900005</td><td>0.00806011</td><td>-0.000420641</td><td>-0.0070083</td><td>0.0215176</td><td>-0.0233476</td><td>-0.0197981</td><td>-0.000476498</td><td>-0.00302771</td><td>-0.0041842</td><td>-0.0257163</td><td>-0.0254939</td><td>-0.0249994</td><td>-0.0309807</td><td>-0.0550235</td><td>-0.00469943</td><td>-0.0879548</td><td>-0.222796</td><td>-0.00510436</td><td>-0.0243724</td><td>NaN</td><td>-0.0120719</td><td>-0.0137636</td><td>-0.0211248</td><td>-0.00787055</td><td>-0.0196485</td><td>-0.0316846</td><td>-0.00647316</td><td>-0.00952261</td><td>-0.00395955</td><td>-0.00369334</td><td>-0.0153533</td><td>-0.00860784</td><td>-0.00948149</td><td>-0.00430418</td><td>-0.0282646</td><td>-0.0118993</td><td>-0.0029841</td><td>-0.0106818</td><td>-0.0107343</td><td>-0.00550795</td><td>0.000546728</td><td>-0.0027387</td><td>-0.00637224</td><td>-0.036328</td><td>0.529135</td><td>0.330492</td><td>0.157729</td><td>1.41493</td><td>0.442212</td><td>0.49611</td><td>0.0271782</td><td>0.051633</td><td>0.156179</td><td>0.1847</td><td>NaN</td><td>NaN</td><td>NaN</td><td>NaN</td><td>0.0805913</td><td>-0.00858417</td><td>-0.00959836</td><td>-1.00403</td><td>NaN</td><td>-0.0758044</td><td>-26.3669</td><td>-0.0302749</td><td>-0.0249414</td><td>-0.0356262</td><td>-0.0372728</td><td>-0.0220377</td><td>-0.00489073</td><td>-14.7516</td><td>-11.4574</td><td>-6.96877</td><td>-0.0272235</td></tr><tr><th>8</th><td>0.00883281</td><td>0.00493428</td><td>0.0066869</td><td>0.00372857</td><td>0.00634008</td><td>0.0557166</td><td>0.00444352</td><td>0.0302144</td><td>0.00762387</td><td>-0.00192625</td><td>-0.00352749</td><td>-0.00426628</td><td>0.0047888</td><td>0.00677488</td><td>-0.0168451</td><td>-0.0304118</td><td>-0.00278819</td><td>0.00500259</td><td>0.0157294</td><td>0.0123385</td><td>0.0284665</td><td>0.0150538</td><td>0.0269718</td><td>0.047828</td><td>0.0704279</td><td>0.0273693</td><td>0.0883219</td><td>0.170124</td><td>0.00826575</td><td>-0.00627902</td><td>NaN</td><td>-0.0031635</td><td>-0.00370599</td><td>0.0033636</td><td>-0.00510378</td><td>0.000884977</td><td>0.00610601</td><td>-0.000297939</td><td>-0.0100162</td><td>-0.00422934</td><td>-0.00281546</td><td>-0.00393439</td><td>-0.00411965</td><td>-0.00948989</td><td>-0.00378056</td><td>-0.00503192</td><td>-0.00875677</td><td>-0.000202796</td><td>-0.0119948</td><td>-0.00816076</td><td>0.00339459</td><td>0.00107659</td><td>-0.00231852</td><td>-0.00685279</td><td>-0.203571</td><td>0.19513</td><td>-0.204461</td><td>0.283721</td><td>-0.985327</td><td>0.207939</td><td>0.428948</td><td>-0.0916895</td><td>-0.024823</td><td>0.057898</td><td>0.263072</td><td>NaN</td><td>NaN</td><td>NaN</td><td>NaN</td><td>-0.0623403</td><td>-0.0147029</td><td>-0.00631864</td><td>-0.667934</td><td>NaN</td><td>0.124374</td><td>-25.2627</td><td>0.0146872</td><td>-0.00512306</td><td>0.0732652</td><td>0.0672342</td><td>0.0024658</td><td>-0.0191912</td><td>-7.32262</td><td>-7.67282</td><td>8.19584</td><td>-0.0158283</td></tr><tr><th>9</th><td>0.00697616</td><td>-0.00494625</td><td>0.0103326</td><td>-0.00764344</td><td>-0.00621388</td><td>0.0628946</td><td>0.0118967</td><td>-0.00291018</td><td>-0.00459518</td><td>0.0472255</td><td>0.00215453</td><td>0.0143145</td><td>0.0255785</td><td>0.00628696</td><td>-0.00151502</td><td>-0.0218301</td><td>0.0492345</td><td>0.00310286</td><td>0.0094548</td><td>0.00791678</td><td>0.0210485</td><td>0.00800174</td><td>0.00949243</td><td>0.0372001</td><td>0.0641591</td><td>0.0152466</td><td>0.0204266</td><td>0.00704953</td><td>0.00475537</td><td>0.00635396</td><td>NaN</td><td>0.00258641</td><td>0.00253452</td><td>0.00761213</td><td>0.000729206</td><td>0.00648485</td><td>0.0120746</td><td>0.00152308</td><td>0.00127047</td><td>0.00176769</td><td>-0.0010534</td><td>0.00475183</td><td>0.00261803</td><td>-0.00188415</td><td>0.00177268</td><td>0.00543216</td><td>-0.00123222</td><td>0.00296644</td><td>-0.00182106</td><td>-0.000107343</td><td>0.00782157</td><td>-5.71e-5</td><td>0.00168936</td><td>-0.00389872</td><td>-0.304142</td><td>-0.238851</td><td>-0.13417</td><td>0.0763983</td><td>1.14777</td><td>-0.259644</td><td>-0.438195</td><td>-0.00191469</td><td>-0.0631962</td><td>-0.0341071</td><td>0.0592524</td><td>NaN</td><td>NaN</td><td>NaN</td><td>NaN</td><td>-0.0611575</td><td>0.00396447</td><td>0.00187337</td><td>-0.531831</td><td>NaN</td><td>0.291214</td><td>-22.8252</td><td>0.0160689</td><td>0.00753501</td><td>0.027544</td><td>0.0175282</td><td>0.00235828</td><td>0.0719834</td><td>-5.32569</td><td>1.9458</td><td>8.36063</td><td>-0.00347905</td></tr><tr><th>10</th><td>0.0105292</td><td>0.0100276</td><td>0.0335589</td><td>0.00676143</td><td>0.00654179</td><td>0.00447082</td><td>0.0193669</td><td>0.041921</td><td>0.0155869</td><td>0.0276191</td><td>0.000643339</td><td>0.0151199</td><td>0.0145923</td><td>0.0176357</td><td>0.0167165</td><td>0.0141166</td><td>0.00863206</td><td>0.00903186</td><td>0.0118753</td><td>0.0102839</td><td>0.0241569</td><td>0.0232513</td><td>0.0204402</td><td>0.0289872</td><td>0.0304751</td><td>0.0329361</td><td>0.0397655</td><td>0.0842948</td><td>0.0142499</td><td>0.0270281</td><td>NaN</td><td>0.00194355</td><td>0.00275707</td><td>0.00852086</td><td>-0.00110516</td><td>0.00811129</td><td>0.0105233</td><td>0.00579845</td><td>0.00999927</td><td>0.00204385</td><td>-0.00200295</td><td>0.0027382</td><td>0.0019629</td><td>-0.00145117</td><td>0.00189452</td><td>-0.00653513</td><td>-0.00255387</td><td>-0.00217941</td><td>-0.00253137</td><td>-0.00358333</td><td>0.00305359</td><td>-0.00851299</td><td>-0.00251126</td><td>-0.000290692</td><td>-0.238045</td><td>-0.572809</td><td>-0.401963</td><td>-0.187587</td><td>-1.45244</td><td>-0.593871</td><td>-0.371985</td><td>-0.0392864</td><td>-0.0853711</td><td>-0.180722</td><td>-0.158731</td><td>NaN</td><td>NaN</td><td>NaN</td><td>NaN</td><td>-0.0858299</td><td>0.00651708</td><td>0.00864676</td><td>0.0709363</td><td>NaN</td><td>0.224715</td><td>-19.3879</td><td>0.0227032</td><td>0.012116</td><td>0.0420137</td><td>0.0430707</td><td>0.00234557</td><td>-0.0213681</td><td>-2.46089</td><td>5.7318</td><td>11.6922</td><td>0.000487977</td></tr><tr><th>11</th><td>0.00833999</td><td>0.000812098</td><td>0.00756745</td><td>-0.00128069</td><td>0.0013295</td><td>0.0406032</td><td>0.00721769</td><td>0.00912703</td><td>0.00553487</td><td>0.011411</td><td>0.00432818</td><td>0.0126151</td><td>0.0331408</td><td>-0.000913288</td><td>-0.0172818</td><td>-0.0187447</td><td>0.0151454</td><td>-0.000521533</td><td>0.0101179</td><td>0.00990447</td><td>0.0045664</td><td>0.00459463</td><td>-0.00307694</td><td>0.00715597</td><td>0.0152466</td><td>-0.00574294</td><td>0.000611836</td><td>-0.00387145</td><td>-0.00338137</td><td>0.0178652</td><td>NaN</td><td>0.00122521</td><td>0.0018424</td><td>0.00764715</td><td>-0.000516183</td><td>0.0049196</td><td>0.0105519</td><td>0.00362678</td><td>-0.00630699</td><td>0.00145322</td><td>-0.00204823</td><td>0.0019281</td><td>0.00141365</td><td>-0.00102708</td><td>0.00146486</td><td>-0.00571139</td><td>-0.000506688</td><td>-0.00187944</td><td>-0.00117282</td><td>0.00290541</td><td>0.00317794</td><td>-0.00540808</td><td>-0.00307238</td><td>0.00139209</td><td>-0.138611</td><td>-0.573409</td><td>-0.448169</td><td>-0.152246</td><td>-0.352628</td><td>-0.594743</td><td>-0.505752</td><td>-0.0586491</td><td>-0.120755</td><td>-0.149553</td><td>-0.149792</td><td>NaN</td><td>NaN</td><td>NaN</td><td>NaN</td><td>-0.0802153</td><td>0.00707452</td><td>-0.000326047</td><td>-0.059639</td><td>NaN</td><td>0.0248768</td><td>-17.951</td><td>0.00217481</td><td>0.00661828</td><td>0.0153557</td><td>-0.000516312</td><td>0.0162997</td><td>0.026437</td><td>1.20509</td><td>8.31849</td><td>3.22391</td><td>0.0073634</td></tr><tr><th>12</th><td>0.0012303</td><td>0.0024063</td><td>0.0127609</td><td>0.00413555</td><td>-0.00292542</td><td>-0.0198</td><td>0.0162237</td><td>0.00863408</td><td>0.0124221</td><td>0.0246601</td><td>0.000439154</td><td>-0.00167454</td><td>-0.000152554</td><td>0.000517709</td><td>-0.00301682</td><td>0.0753808</td><td>0.00675189</td><td>0.00044589</td><td>0.000143842</td><td>0.00103849</td><td>-0.000564573</td><td>0.0111579</td><td>0.00756926</td><td>-0.0153504</td><td>-0.0223252</td><td>8.03e-5</td><td>0.0224622</td><td>0.0406213</td><td>0.00188965</td><td>0.0134174</td><td>NaN</td><td>0.00298245</td><td>0.00341523</td><td>0.00538348</td><td>0.00126064</td><td>0.00664895</td><td>0.00696156</td><td>0.00320647</td><td>0.0177407</td><td>0.00193722</td><td>-0.00133775</td><td>0.00113142</td><td>0.00156774</td><td>0.00220403</td><td>0.00158724</td><td>-0.0104612</td><td>0.0018046</td><td>0.000836597</td><td>0.00127195</td><td>0.0014829</td><td>0.00302827</td><td>0.00409685</td><td>-0.00121071</td><td>-0.00189105</td><td>-0.139174</td><td>-0.107317</td><td>-0.151255</td><td>-0.0792238</td><td>-1.51945</td><td>0.0710751</td><td>-0.239496</td><td>-0.0400025</td><td>-0.00358942</td><td>-0.0878342</td><td>-0.0878427</td><td>NaN</td><td>NaN</td><td>NaN</td><td>NaN</td><td>0.0258149</td><td>0.00212555</td><td>0.00786464</td><td>0.176435</td><td>NaN</td><td>-0.00830178</td><td>-18.1812</td><td>0.00153286</td><td>0.00540931</td><td>-0.0385213</td><td>-0.0359429</td><td>-0.0298361</td><td>-0.0195187</td><td>-10.2611</td><td>0.0392059</td><td>-2.711</td><td>0.00208582</td></tr><tr><th>13</th><td>1.74e-5</td><td>-0.0016512</td><td>-0.00655048</td><td>-0.00206266</td><td>0.000847652</td><td>0.00500129</td><td>-0.00367711</td><td>-0.0126955</td><td>-0.0019257</td><td>-0.00663915</td><td>0.00149174</td><td>0.0163575</td><td>0.0259117</td><td>0.00800684</td><td>0.00256139</td><td>-0.0737548</td><td>-0.00221034</td><td>-0.00480498</td><td>0.000869768</td><td>-0.000476471</td><td>0.000449327</td><td>0.00273052</td><td>-0.000669478</td><td>-0.00388252</td><td>-0.00548272</td><td>-0.00411848</td><td>-0.00443026</td><td>0.0340263</td><td>-0.000254492</td><td>0.015213</td><td>NaN</td><td>-0.00204135</td><td>-0.00290968</td><td>-0.00147115</td><td>-0.00240759</td><td>-0.000934346</td><td>-0.00125683</td><td>-0.00172133</td><td>0.00490505</td><td>-0.000309543</td><td>-0.00226762</td><td>-0.0050594</td><td>-0.00152441</td><td>-0.00489094</td><td>-0.000160169</td><td>-0.0125141</td><td>-0.00618732</td><td>0.00255893</td><td>-0.00506152</td><td>-0.00246398</td><td>0.00234177</td><td>0.00153901</td><td>0.00318714</td><td>-0.000298916</td><td>-0.00640077</td><td>0.0254692</td><td>0.22822</td><td>-0.0631455</td><td>-0.186238</td><td>-0.0297469</td><td>0.293451</td><td>0.0535407</td><td>0.0616604</td><td>0.0120363</td><td>-0.0733208</td><td>NaN</td><td>NaN</td><td>NaN</td><td>NaN</td><td>-0.000134254</td><td>-0.008464</td><td>-0.00607707</td><td>0.112484</td><td>NaN</td><td>-0.0414875</td><td>-19.4121</td><td>-0.0050362</td><td>0.00247175</td><td>0.0142088</td><td>0.0193359</td><td>-0.0220611</td><td>-0.02826</td><td>-10.9262</td><td>-6.17277</td><td>-4.1126</td><td>0.00443766</td></tr><tr><th>14</th><td>-0.00556636</td><td>0.00433451</td><td>0.0294768</td><td>0.00187104</td><td>-0.00130422</td><td>-0.0415078</td><td>-0.0147392</td><td>-0.013366</td><td>-0.0179237</td><td>-0.00741808</td><td>-0.00153464</td><td>0.000545295</td><td>0.00108411</td><td>-0.00214087</td><td>0.000671376</td><td>-0.0379558</td><td>-0.00265664</td><td>-0.00119435</td><td>-0.00794965</td><td>-0.00702643</td><td>-0.00170166</td><td>-0.0036312</td><td>-0.00555406</td><td>0.000369872</td><td>0.0048368</td><td>-0.00880579</td><td>-0.000129575</td><td>-0.00771639</td><td>-0.00717909</td><td>-0.00187929</td><td>NaN</td><td>-0.00278922</td><td>-0.00315267</td><td>-0.00229985</td><td>-0.002368</td><td>-0.00318255</td><td>-0.00115269</td><td>-0.00388525</td><td>-0.00537892</td><td>-0.00362821</td><td>-0.00131589</td><td>0.000165274</td><td>-0.0030224</td><td>-0.00276709</td><td>-0.00344098</td><td>-0.0117597</td><td>-0.00322917</td><td>-0.000837255</td><td>-0.00321434</td><td>-0.00699847</td><td>-0.00750569</td><td>0.00260657</td><td>0.00146061</td><td>-0.003545</td><td>-0.340291</td><td>-0.0417146</td><td>0.0323085</td><td>-0.107279</td><td>0.78035</td><td>-0.0972072</td><td>-0.173575</td><td>0.0182045</td><td>-0.0584914</td><td>0.0886936</td><td>-0.146977</td><td>NaN</td><td>NaN</td><td>NaN</td><td>NaN</td><td>-0.0117267</td><td>-0.0102486</td><td>-0.0103865</td><td>-0.0181672</td><td>NaN</td><td>-0.00801333</td><td>-20.9771</td><td>0.00477523</td><td>0.00659329</td><td>0.0408717</td><td>0.00528652</td><td>0.0173037</td><td>0.0461123</td><td>-7.05705</td><td>-0.717485</td><td>-0.0809669</td><td>6.39e-5</td></tr><tr><th>15</th><td>0.00164964</td><td>-0.0029983</td><td>0.00611634</td><td>-0.00664587</td><td>-0.00141463</td><td>0.0394861</td><td>0.00133675</td><td>0.00211812</td><td>-0.0117568</td><td>0.0288645</td><td>0.00264414</td><td>-0.0199629</td><td>-0.038174</td><td>0.00800485</td><td>0.00850378</td><td>0.00701391</td><td>-0.0382117</td><td>-0.00141506</td><td>-0.000587001</td><td>0.00229222</td><td>0.00825966</td><td>0.0131062</td><td>0.016779</td><td>0.00830144</td><td>0.0057255</td><td>0.00295649</td><td>0.0120166</td><td>0.000405103</td><td>0.0187841</td><td>0.00446917</td><td>NaN</td><td>-0.00291868</td><td>-0.00393279</td><td>-0.00184082</td><td>-0.00223894</td><td>-0.00382092</td><td>-0.00115791</td><td>-0.00277156</td><td>-0.0126955</td><td>-0.00409339</td><td>-0.00075413</td><td>-0.0067837</td><td>-0.00449606</td><td>-0.00326386</td><td>-0.00375805</td><td>-0.00806832</td><td>-0.00362752</td><td>0.00233173</td><td>-0.0025979</td><td>-0.000110042</td><td>0.00575583</td><td>-0.00100978</td><td>0.00191759</td><td>-0.00219083</td><td>0.0258225</td><td>0.224466</td><td>0.155164</td><td>0.132335</td><td>1.81365</td><td>0.235363</td><td>0.0260927</td><td>0.00792408</td><td>0.10782</td><td>-0.0520804</td><td>0.179886</td><td>NaN</td><td>NaN</td><td>NaN</td><td>NaN</td><td>-0.0256524</td><td>0.00434828</td><td>0.00207105</td><td>0.117809</td><td>NaN</td><td>-0.00788071</td><td>-20.2098</td><td>0.00399623</td><td>-0.00273477</td><td>0.0290627</td><td>0.0264208</td><td>0.0613923</td><td>0.0123022</td><td>-3.45368</td><td>-2.46166</td><td>2.51713</td><td>-0.0013896</td></tr><tr><th>16</th><td>0.00355844</td><td>-0.000158664</td><td>0.00752904</td><td>0.000351987</td><td>-0.00345589</td><td>0.00402867</td><td>0.0319758</td><td>0.00366387</td><td>0.0164925</td><td>0.0634299</td><td>-0.000329078</td><td>-0.00548924</td><td>-0.00815607</td><td>0.00783456</td><td>-0.000846768</td><td>0.0945973</td><td>0.00848693</td><td>-0.000671084</td><td>0.00643305</td><td>0.00409627</td><td>0.0160202</td><td>-0.000731881</td><td>0.00452547</td><td>0.0305179</td><td>0.0454854</td><td>0.0151515</td><td>0.0183107</td><td>0.0262131</td><td>-9.79e-5</td><td>-0.0101849</td><td>NaN</td><td>0.000870027</td><td>0.00145799</td><td>0.00212274</td><td>-0.000598466</td><td>0.00409299</td><td>0.00267826</td><td>0.00136878</td><td>0.0145387</td><td>-0.00107625</td><td>-0.00106234</td><td>0.00267954</td><td>-0.000398865</td><td>-0.00126998</td><td>-0.00120196</td><td>0.00441524</td><td>0.000742745</td><td>-0.00207437</td><td>-0.00219834</td><td>-0.00168435</td><td>-0.00459495</td><td>-0.00721886</td><td>0.00104767</td><td>0.00234127</td><td>0.0586052</td><td>-0.0426556</td><td>-0.111608</td><td>-0.0223352</td><td>0.646982</td><td>-0.332035</td><td>-0.0075463</td><td>-0.00470255</td><td>-0.0488404</td><td>-0.00859353</td><td>-0.0242729</td><td>NaN</td><td>NaN</td><td>NaN</td><td>NaN</td><td>-0.0005827</td><td>0.00306049</td><td>0.0022995</td><td>0.18707</td><td>NaN</td><td>-0.00775631</td><td>-21.1104</td><td>0.00825409</td><td>-0.00343499</td><td>-0.00289833</td><td>0.0198363</td><td>0.0475757</td><td>0.0198452</td><td>1.41707</td><td>2.66131</td><td>6.08164</td><td>-0.00315957</td></tr><tr><th>17</th><td>0.00996173</td><td>0.00387245</td><td>-0.0012979</td><td>0.00679071</td><td>0.00225211</td><td>0.0186017</td><td>0.0127137</td><td>0.0260217</td><td>0.0129888</td><td>0.0131118</td><td>0.000603327</td><td>0.0370863</td><td>0.051566</td><td>0.00235739</td><td>0.0165556</td><td>-0.0709038</td><td>0.0103004</td><td>0.00108352</td><td>0.0138354</td><td>0.0117292</td><td>-0.0033098</td><td>0.000543251</td><td>-0.00123538</td><td>-0.00871086</td><td>-0.0218114</td><td>0.00648557</td><td>0.0116355</td><td>0.00970301</td><td>-0.00643619</td><td>0.00253014</td><td>NaN</td><td>-0.000687888</td><td>-0.00104418</td><td>-0.000398877</td><td>-0.00147997</td><td>0.00124266</td><td>-0.000489172</td><td>-0.000226978</td><td>0.0098944</td><td>-0.000364249</td><td>-0.0025817</td><td>-3.15e-5</td><td>-0.000388255</td><td>-0.00351519</td><td>-0.000262436</td><td>0.00148822</td><td>-0.00363261</td><td>0.00117051</td><td>-0.00358892</td><td>-0.00357305</td><td>-0.00699003</td><td>0.00619715</td><td>0.00351519</td><td>0.000433084</td><td>-0.108609</td><td>-0.243079</td><td>-0.119603</td><td>-0.0311757</td><td>-0.419636</td><td>-0.232736</td><td>0.0588417</td><td>-0.0544111</td><td>-0.0015519</td><td>0.0117476</td><td>-0.0399239</td><td>NaN</td><td>NaN</td><td>NaN</td><td>NaN</td><td>0.00927137</td><td>-0.00358599</td><td>-0.00130612</td><td>0.222945</td><td>NaN</td><td>0.125693</td><td>-20.679</td><td>0.00133639</td><td>-0.00640656</td><td>-0.00878181</td><td>-0.0145956</td><td>-0.00605847</td><td>0.00499813</td><td>-8.27824</td><td>0.0847332</td><td>3.61253</td><td>0.00400199</td></tr><tr><th>18</th><td>-0.00223734</td><td>-0.0013701</td><td>0.00202625</td><td>0.0029526</td><td>-0.00810265</td><td>0.000375258</td><td>0.0178952</td><td>0.0223184</td><td>0.0146623</td><td>0.0250911</td><td>-0.00116269</td><td>-0.0162629</td><td>-0.0296402</td><td>-0.00337811</td><td>0.00401778</td><td>0.032983</td><td>-0.0180432</td><td>0.00631622</td><td>-0.00218482</td><td>-0.00257451</td><td>0.00685235</td><td>0.00472241</td><td>0.00498794</td><td>0.00841791</td><td>0.0158176</td><td>0.00371742</td><td>0.00959512</td><td>0.0171302</td><td>0.0035273</td><td>0.0049428</td><td>NaN</td><td>0.000400587</td><td>-0.000264799</td><td>0.000476669</td><td>0.00111643</td><td>-0.000581386</td><td>0.00155228</td><td>-0.00103732</td><td>-0.00721122</td><td>0.00172122</td><td>0.000522373</td><td>-0.000992473</td><td>0.000693696</td><td>0.0014523</td><td>0.00141083</td><td>0.00672067</td><td>-0.000640166</td><td>0.00379833</td><td>0.000805501</td><td>0.00178477</td><td>-0.00656569</td><td>0.00596205</td><td>0.00805354</td><td>-0.00103481</td><td>0.0241806</td><td>0.0565293</td><td>0.0620373</td><td>-0.0409072</td><td>-0.21954</td><td>0.0999279</td><td>-0.00807696</td><td>0.0507205</td><td>-0.0236155</td><td>-0.0256756</td><td>-0.0542566</td><td>NaN</td><td>NaN</td><td>NaN</td><td>NaN</td><td>-0.0159333</td><td>0.00208841</td><td>0.00374184</td><td>0.292092</td><td>NaN</td><td>0.0258021</td><td>-19.9158</td><td>0.00287703</td><td>0.00185944</td><td>-0.00257559</td><td>0.0216271</td><td>-0.00481761</td><td>0.00715644</td><td>-7.63968</td><td>-5.1248</td><td>5.10976</td><td>0.000842786</td></tr><tr><th>19</th><td>0.0120709</td><td>0.0098608</td><td>0.0246074</td><td>0.00542724</td><td>0.0101546</td><td>0.025076</td><td>0.0224845</td><td>0.00827144</td><td>0.00674969</td><td>0.0538056</td><td>-0.000934584</td><td>-0.00315834</td><td>-0.00861759</td><td>-0.0151883</td><td>0.00532053</td><td>0.0435417</td><td>-0.0156885</td><td>0.00958882</td><td>0.0174205</td><td>0.0151751</td><td>0.00373537</td><td>0.000339791</td><td>0.00193375</td><td>0.00655545</td><td>0.00473548</td><td>0.00635801</td><td>-0.00280934</td><td>-0.0103567</td><td>0.00342892</td><td>-0.00177345</td><td>NaN</td><td>0.00105198</td><td>0.000854979</td><td>0.000265438</td><td>0.00231011</td><td>-0.00100979</td><td>-7.88e-5</td><td>0.000800258</td><td>-0.00593076</td><td>0.000381631</td><td>0.000677869</td><td>-0.000230002</td><td>0.000193075</td><td>0.0046701</td><td>0.000508919</td><td>-0.00622694</td><td>0.00420988</td><td>0.00206439</td><td>0.00589406</td><td>0.00181646</td><td>0.000352867</td><td>0.00573674</td><td>0.00165195</td><td>0.000306531</td><td>-0.0430279</td><td>-0.110499</td><td>-0.104593</td><td>-0.0209447</td><td>-0.819397</td><td>-0.167378</td><td>0.158364</td><td>-0.0220115</td><td>-0.0370449</td><td>0.0103002</td><td>-0.0292936</td><td>NaN</td><td>NaN</td><td>NaN</td><td>NaN</td><td>-0.0547176</td><td>0.00882629</td><td>0.014374</td><td>0.0945084</td><td>NaN</td><td>-0.0407626</td><td>-19.1543</td><td>0.00850516</td><td>0.00578446</td><td>0.0513164</td><td>0.0104145</td><td>0.0187303</td><td>0.0423191</td><td>0.29937</td><td>-0.567332</td><td>4.63996</td><td>0.000547328</td></tr><tr><th>20</th><td>0.00251558</td><td>0.0077941</td><td>0.0122508</td><td>0.0032833</td><td>0.0120976</td><td>-0.0152422</td><td>-0.0133875</td><td>0.00434517</td><td>0.00916016</td><td>-0.0568689</td><td>-0.00117175</td><td>0.00273579</td><td>-0.00410071</td><td>-0.0302212</td><td>0.0129066</td><td>0.000499981</td><td>0.00752102</td><td>0.0166691</td><td>0.00125372</td><td>0.00206307</td><td>0.0133859</td><td>0.0120372</td><td>0.0164807</td><td>0.0148296</td><td>0.0202633</td><td>0.0163126</td><td>0.0194257</td><td>0.0321003</td><td>0.0157984</td><td>0.00291276</td><td>NaN</td><td>0.000198041</td><td>0.00028781</td><td>0.00203957</td><td>-0.0011261</td><td>0.00317519</td><td>0.00237207</td><td>0.00159244</td><td>0.00995323</td><td>0.000742552</td><td>-0.00107055</td><td>0.00128385</td><td>0.000433641</td><td>-0.00454676</td><td>0.000630955</td><td>0.000453519</td><td>-0.00228478</td><td>-0.000237337</td><td>-0.00623572</td><td>-0.000789479</td><td>-0.00717975</td><td>0.00425503</td><td>0.00145686</td><td>0.0065235</td><td>0.223098</td><td>-0.277497</td><td>-0.224294</td><td>-0.0101443</td><td>0.414126</td><td>-0.301322</td><td>-0.375169</td><td>-0.0326159</td><td>-0.0362786</td><td>-0.096161</td><td>-0.00936859</td><td>NaN</td><td>NaN</td><td>NaN</td><td>NaN</td><td>0.0122016</td><td>0.00564044</td><td>0.000336834</td><td>0.396854</td><td>0.245615</td><td>0.159332</td><td>-17.0612</td><td>0.00941985</td><td>0.0135964</td><td>0.0127033</td><td>0.0179929</td><td>0.0341479</td><td>0.0545813</td><td>3.37223</td><td>2.45709</td><td>5.80313</td><td>5.4e-5</td></tr><tr><th>21</th><td>0.00420691</td><td>0.00857199</td><td>0.0189204</td><td>0.00248434</td><td>0.0125517</td><td>0.0114671</td><td>0.00462035</td><td>0.0187889</td><td>0.0178164</td><td>-0.02196</td><td>-0.000304024</td><td>-0.00501942</td><td>-0.00922305</td><td>0.00793166</td><td>0.00131478</td><td>-0.0235437</td><td>0.0117533</td><td>0.00301023</td><td>0.00404048</td><td>0.00495663</td><td>0.00612888</td><td>7.27e-5</td><td>0.00132766</td><td>0.0182701</td><td>0.0273046</td><td>0.00947207</td><td>0.0110541</td><td>-0.00280731</td><td>-0.00257025</td><td>-0.00106331</td><td>NaN</td><td>0.00362053</td><td>0.00451212</td><td>0.00755481</td><td>0.0019404</td><td>0.00730473</td><td>0.00992885</td><td>0.00412642</td><td>0.00732686</td><td>0.00128203</td><td>-0.00301843</td><td>0.00484711</td><td>0.00235046</td><td>0.00559437</td><td>0.00123916</td><td>0.00330871</td><td>0.0041148</td><td>-0.00083874</td><td>0.0071833</td><td>0.00231673</td><td>-0.00934001</td><td>0.00390813</td><td>0.00139189</td><td>-0.00377267</td><td>-0.377443</td><td>-0.211132</td><td>-0.238087</td><td>0.00716119</td><td>-1.08564</td><td>-0.101902</td><td>-0.308677</td><td>-0.064084</td><td>-0.0405693</td><td>-0.0839573</td><td>0.00579079</td><td>NaN</td><td>NaN</td><td>NaN</td><td>NaN</td><td>-0.0573284</td><td>0.00222879</td><td>0.0023617</td><td>0.499123</td><td>-0.0544689</td><td>0.15942</td><td>-14.9699</td><td>0.00562534</td><td>0.0166595</td><td>0.00277994</td><td>0.0166457</td><td>0.0416098</td><td>-0.0415967</td><td>11.1122</td><td>6.18178</td><td>10.166</td><td>0.000278229</td></tr><tr><th>22</th><td>-0.00572448</td><td>-0.00678371</td><td>-0.0447599</td><td>0.00313485</td><td>-0.004877</td><td>-0.00211881</td><td>-0.00275638</td><td>0.013292</td><td>0.00717604</td><td>-0.0237346</td><td>-0.000545184</td><td>-0.0065681</td><td>-0.011998</td><td>-0.00188645</td><td>0.00125348</td><td>0.0135233</td><td>0.0119635</td><td>0.00151012</td><td>-0.00915285</td><td>-0.0077672</td><td>0.00531725</td><td>0.000932501</td><td>-0.00555021</td><td>0.0131274</td><td>0.0164666</td><td>0.00744084</td><td>-0.0267903</td><td>-0.0978079</td><td>0.00276267</td><td>0.0121047</td><td>NaN</td><td>0.0023724</td><td>0.00156979</td><td>0.00153762</td><td>0.00198046</td><td>0.00354158</td><td>-0.00133219</td><td>0.00575166</td><td>0.0130004</td><td>-0.00220204</td><td>-0.00387637</td><td>0.00254361</td><td>-0.000871323</td><td>0.00184025</td><td>-0.00255762</td><td>0.00803729</td><td>0.0025989</td><td>0.00640263</td><td>0.00267089</td><td>0.00343377</td><td>0.00465859</td><td>0.00462982</td><td>0.00776641</td><td>-0.00159616</td><td>-0.111316</td><td>-0.0447391</td><td>-0.00354605</td><td>-0.0868731</td><td>0.414628</td><td>-0.0691201</td><td>-0.0421636</td><td>0.0196955</td><td>-0.0455811</td><td>0.0210378</td><td>-0.137632</td><td>NaN</td><td>NaN</td><td>NaN</td><td>NaN</td><td>0.00544511</td><td>0.0030434</td><td>0.00564287</td><td>0.601314</td><td>0.145443</td><td>-0.0404966</td><td>-13.5472</td><td>-0.000460349</td><td>-0.0155992</td><td>-0.00036161</td><td>-0.0039989</td><td>0.0340367</td><td>0.0269204</td><td>14.2528</td><td>10.0734</td><td>4.46193</td><td>0.00139917</td></tr><tr><th>23</th><td>0.0151204</td><td>0.0124607</td><td>0.0754954</td><td>0.000954809</td><td>0.00274966</td><td>0.0795261</td><td>0.0327059</td><td>0.0575908</td><td>0.0478547</td><td>-0.000923522</td><td>0.00596955</td><td>-0.00728365</td><td>-0.0122323</td><td>0.0261136</td><td>-0.000346069</td><td>-0.130013</td><td>-0.0513749</td><td>0.0019302</td><td>0.0204335</td><td>0.0200616</td><td>0.0274029</td><td>0.0309993</td><td>0.0357953</td><td>0.0276953</td><td>0.0426161</td><td>0.0126209</td><td>0.101934</td><td>0.221005</td><td>0.0094606</td><td>0.022258</td><td>NaN</td><td>0.00485791</td><td>0.00542377</td><td>0.014129</td><td>0.00191753</td><td>0.0110336</td><td>0.0195381</td><td>0.00622887</td><td>-0.000312711</td><td>-0.00142785</td><td>-0.00238049</td><td>0.00307109</td><td>0.000559354</td><td>0.00414545</td><td>-0.00117626</td><td>-0.00625875</td><td>0.0039447</td><td>0.00203692</td><td>0.0055532</td><td>0.00390277</td><td>-0.00169183</td><td>0.00618239</td><td>0.00222006</td><td>0.00191328</td><td>0.0548117</td><td>-0.0783211</td><td>-0.0163143</td><td>-0.0649363</td><td>0.214937</td><td>-0.136313</td><td>-0.108962</td><td>0.00174599</td><td>0.00919644</td><td>-0.0415837</td><td>-0.114767</td><td>NaN</td><td>NaN</td><td>NaN</td><td>NaN</td><td>-0.0439387</td><td>0.00897092</td><td>0.0114656</td><td>0.936758</td><td>0.145352</td><td>0.32625</td><td>-11.4598</td><td>0.0214642</td><td>0.0266753</td><td>0.0546106</td><td>0.0382129</td><td>0.0320909</td><td>0.0120245</td><td>11.994</td><td>11.032</td><td>7.89106</td><td>0.0128728</td></tr><tr><th>24</th><td>0.00435468</td><td>0.00143966</td><td>-0.0119267</td><td>0.00465255</td><td>0.00275917</td><td>-0.00888936</td><td>0.0164959</td><td>0.00194842</td><td>0.0222437</td><td>0.00286557</td><td>0.00258858</td><td>0.00585161</td><td>-0.00176017</td><td>0.00157829</td><td>0.0159291</td><td>0.156282</td><td>0.0968465</td><td>0.00152206</td><td>0.00600476</td><td>0.00430619</td><td>0.0132977</td><td>0.011257</td><td>0.000302387</td><td>0.018936</td><td>0.0252058</td><td>0.0165108</td><td>0.0176834</td><td>0.015288</td><td>-0.00692078</td><td>0.0293911</td><td>NaN</td><td>0.00530189</td><td>0.00562373</td><td>0.00913224</td><td>0.00449732</td><td>0.00730294</td><td>0.0134256</td><td>0.00276866</td><td>0.000996661</td><td>0.00156905</td><td>-0.00230514</td><td>0.0076374</td><td>0.00296277</td><td>0.00661942</td><td>0.00159863</td><td>-0.00438832</td><td>0.00753906</td><td>0.00369904</td><td>0.00728754</td><td>0.00500057</td><td>-0.00233883</td><td>0.0115507</td><td>0.00356093</td><td>0.00514449</td><td>0.154273</td><td>-0.245213</td><td>-0.162159</td><td>-0.0347048</td><td>-1.05139</td><td>-0.203481</td><td>-0.209074</td><td>-0.00756787</td><td>-0.0520828</td><td>-0.096877</td><td>-0.0651648</td><td>NaN</td><td>NaN</td><td>NaN</td><td>NaN</td><td>-0.052252</td><td>0.00964545</td><td>0.00582421</td><td>0.872124</td><td>0.0452571</td><td>-0.107009</td><td>-8.041</td><td>0.00333301</td><td>0.000467639</td><td>0.00272624</td><td>0.00336509</td><td>0.0289167</td><td>0.0130121</td><td>13.7025</td><td>9.69094</td><td>2.32009</td><td>0.0085168</td></tr><tr><th>25</th><td>0.0109028</td><td>0.00751477</td><td>0.0201417</td><td>0.00321106</td><td>0.00812415</td><td>0.0227444</td><td>0.015294</td><td>0.0363375</td><td>0.0219316</td><td>-0.00110392</td><td>0.00347385</td><td>0.0263462</td><td>0.0327019</td><td>-0.0180305</td><td>0.0184672</td><td>-0.074703</td><td>-0.0106027</td><td>0.0173395</td><td>0.0103527</td><td>0.0119287</td><td>0.0111473</td><td>0.00913757</td><td>-0.000606386</td><td>0.012783</td><td>0.0196937</td><td>0.009632</td><td>0.00388975</td><td>-0.000986807</td><td>-0.0022989</td><td>0.0244548</td><td>NaN</td><td>0.00618709</td><td>0.00549499</td><td>0.0129054</td><td>0.00373838</td><td>0.0114187</td><td>0.0173439</td><td>0.00623257</td><td>0.00838144</td><td>0.00104437</td><td>-0.0011912</td><td>0.00733982</td><td>0.00282195</td><td>0.00104075</td><td>0.000973377</td><td>-0.00779122</td><td>0.001929</td><td>0.00962994</td><td>0.00177315</td><td>0.00369561</td><td>0.00626342</td><td>0.0165696</td><td>0.00857192</td><td>0.00171482</td><td>-0.0129306</td><td>-0.312081</td><td>-0.286771</td><td>-0.036354</td><td>-1.11767</td><td>-0.270627</td><td>-0.3425</td><td>-0.043881</td><td>-0.114031</td><td>-0.0804783</td><td>-0.0787041</td><td>NaN</td><td>NaN</td><td>NaN</td><td>NaN</td><td>-0.0184573</td><td>-0.00503459</td><td>-0.00168917</td><td>0.774077</td><td>-0.0881744</td><td>0.0597272</td><td>-5.62408</td><td>-9.57e-5</td><td>0.000407051</td><td>0.0165287</td><td>0.00151903</td><td>0.0256619</td><td>0.013768</td><td>8.41172</td><td>5.85024</td><td>1.94904</td><td>0.0101716</td></tr><tr><th>26</th><td>0.0141254</td><td>0.0181464</td><td>0.0278806</td><td>0.00644513</td><td>0.0297124</td><td>-0.00485029</td><td>0.0115328</td><td>0.0223646</td><td>0.0261284</td><td>-0.0256035</td><td>0.00151687</td><td>0.0127162</td><td>0.0185364</td><td>0.00881144</td><td>0.00542953</td><td>0.0542864</td><td>0.03295</td><td>0.0102158</td><td>0.0176891</td><td>0.0160195</td><td>0.0104976</td><td>0.0174458</td><td>0.0114845</td><td>0.000296665</td><td>-0.00962637</td><td>0.00736325</td><td>0.0189476</td><td>0.00359154</td><td>0.00795959</td><td>0.0266002</td><td>NaN</td><td>0.00666253</td><td>0.00633257</td><td>0.0111384</td><td>0.00406143</td><td>0.0121979</td><td>0.0126573</td><td>0.00882645</td><td>0.0196526</td><td>-0.000194672</td><td>-0.000329711</td><td>0.00758979</td><td>0.00245569</td><td>0.00327689</td><td>-9.91e-5</td><td>0.00424054</td><td>0.00375728</td><td>0.00828432</td><td>0.00425383</td><td>0.0021179</td><td>0.0108168</td><td>0.00350187</td><td>0.00877105</td><td>0.00146674</td><td>-0.0467976</td><td>-0.27893</td><td>-0.288913</td><td>-0.0301519</td><td>-0.817266</td><td>-0.337753</td><td>-0.142575</td><td>-0.0918857</td><td>-0.0393043</td><td>-0.102002</td><td>-0.070433</td><td>NaN</td><td>NaN</td><td>NaN</td><td>NaN</td><td>-0.0491641</td><td>0.00703346</td><td>0.00536504</td><td>0.909287</td><td>0.0450589</td><td>0.259791</td><td>1.12436</td><td>0.0204969</td><td>0.0408794</td><td>0.0379801</td><td>0.0226916</td><td>0.0410621</td><td>0.0643164</td><td>10.4217</td><td>-2.15672</td><td>5.51132</td><td>-0.00104859</td></tr><tr><th>27</th><td>0.0152291</td><td>0.00511705</td><td>0.0329679</td><td>-0.000141326</td><td>0.000536407</td><td>0.0654456</td><td>0.0252357</td><td>0.0378612</td><td>0.0273526</td><td>0.0189319</td><td>0.00667753</td><td>0.012393</td><td>0.0198935</td><td>0.039837</td><td>0.00282329</td><td>-0.0334786</td><td>0.0107613</td><td>0.000188223</td><td>0.0184766</td><td>0.0182916</td><td>0.0187569</td><td>0.0170189</td><td>0.00634418</td><td>0.0240367</td><td>0.0321231</td><td>0.0110351</td><td>0.00993782</td><td>-0.00175333</td><td>0.00479243</td><td>0.0322381</td><td>NaN</td><td>0.00717149</td><td>0.00680694</td><td>0.0164095</td><td>0.00449253</td><td>0.0128633</td><td>0.0215603</td><td>0.0085001</td><td>-0.00180902</td><td>0.00203748</td><td>-0.00233158</td><td>0.00800805</td><td>0.00368017</td><td>0.00289533</td><td>0.00209314</td><td>-0.00106483</td><td>0.00379165</td><td>0.00894937</td><td>0.00257794</td><td>0.00316199</td><td>0.0185335</td><td>0.00128287</td><td>0.00738846</td><td>-0.000119882</td><td>-0.0806597</td><td>-0.245764</td><td>-0.170805</td><td>-0.0494594</td><td>-0.816844</td><td>-0.104866</td><td>-0.375971</td><td>0.00332335</td><td>-0.13614</td><td>-0.0693226</td><td>-0.128684</td><td>NaN</td><td>NaN</td><td>NaN</td><td>NaN</td><td>-0.0727271</td><td>0.00654548</td><td>0.010283</td><td>1.24442</td><td>0.144958</td><td>0.159852</td><td>5.87115</td><td>0.0162254</td><td>-0.00235635</td><td>0.0501801</td><td>0.0318834</td><td>0.0594396</td><td>0.0380103</td><td>24.9991</td><td>0.57011</td><td>8.90702</td><td>0.0146866</td></tr><tr><th>28</th><td>-0.00505857</td><td>-0.00699012</td><td>-0.0541109</td><td>0.000347414</td><td>0.0027245</td><td>-0.0262984</td><td>-0.021139</td><td>0.0190032</td><td>0.00266947</td><td>-0.0867911</td><td>0.0061659</td><td>0.0126036</td><td>0.0233815</td><td>0.010201</td><td>-0.00127364</td><td>0.0272286</td><td>0.00989132</td><td>-0.00706958</td><td>-0.00605141</td><td>-0.00781495</td><td>0.0112317</td><td>0.0113335</td><td>0.00198992</td><td>0.0138843</td><td>0.0230544</td><td>0.00762278</td><td>0.00171532</td><td>-0.0326233</td><td>0.00262233</td><td>0.0247947</td><td>NaN</td><td>0.00837011</td><td>0.00762111</td><td>0.0178043</td><td>0.00588215</td><td>0.0136963</td><td>0.0226633</td><td>0.0102225</td><td>-0.000349001</td><td>0.00231518</td><td>-0.000448535</td><td>0.00981456</td><td>0.00441308</td><td>0.00366104</td><td>0.00215487</td><td>-0.0190606</td><td>0.00446108</td><td>0.0120144</td><td>0.00382484</td><td>0.00325323</td><td>0.0086114</td><td>0.00578807</td><td>0.0084427</td><td>0.000877211</td><td>0.118818</td><td>-0.0459216</td><td>-0.0147721</td><td>-0.0282268</td><td>0.316914</td><td>-0.17197</td><td>0.0573111</td><td>0.053836</td><td>-0.0490674</td><td>-0.178139</td><td>-0.079878</td><td>NaN</td><td>NaN</td><td>NaN</td><td>NaN</td><td>0.0195784</td><td>0.00377312</td><td>0.00569447</td><td>1.21282</td><td>-0.0551439</td><td>0.0932426</td><td>6.61651</td><td>-0.00620253</td><td>-0.024326</td><td>-0.00822339</td><td>-0.00715707</td><td>0.0548801</td><td>0.0299037</td><td>19.7106</td><td>3.73076</td><td>0.936287</td><td>0.017052</td></tr><tr><th>29</th><td>-0.00202692</td><td>0.00181416</td><td>0.0189002</td><td>-0.00226811</td><td>0.000470111</td><td>-0.0187565</td><td>-0.0102083</td><td>-0.0110798</td><td>-0.000531587</td><td>-0.0395774</td><td>0.00479365</td><td>0.0207513</td><td>0.0345476</td><td>-0.000152338</td><td>0.00260446</td><td>-0.0540424</td><td>0.0399063</td><td>0.00249022</td><td>-0.00351501</td><td>-0.0058198</td><td>0.00596756</td><td>0.00521638</td><td>-0.00862566</td><td>0.0099288</td><td>0.00860587</td><td>0.0083103</td><td>-0.043357</td><td>-0.10324</td><td>0.00573856</td><td>0.0244243</td><td>NaN</td><td>0.00535265</td><td>0.004525</td><td>0.0101668</td><td>0.00410954</td><td>0.0082747</td><td>0.0135387</td><td>0.00482216</td><td>-0.00380446</td><td>0.00301888</td><td>4.72e-5</td><td>0.00461504</td><td>0.0034306</td><td>0.0024746</td><td>0.00288605</td><td>0.0217343</td><td>0.00190395</td><td>0.00934451</td><td>0.0027597</td><td>0.00444015</td><td>0.018769</td><td>0.0160911</td><td>0.00276618</td><td>0.00184345</td><td>0.151637</td><td>-0.0794066</td><td>0.00749881</td><td>-0.0669798</td><td>-0.549331</td><td>-0.00573572</td><td>-0.142733</td><td>-0.0128993</td><td>0.0678392</td><td>-0.0753375</td><td>-0.220206</td><td>NaN</td><td>NaN</td><td>NaN</td><td>NaN</td><td>-0.0201577</td><td>-0.0014173</td><td>0.000600117</td><td>0.91449</td><td>-0.155246</td><td>-0.140035</td><td>6.3607</td><td>-0.00915996</td><td>-0.00117882</td><td>-0.0131818</td><td>-0.0201582</td><td>0.0407854</td><td>-0.00730279</td><td>17.8229</td><td>6.95861</td><td>-1.73415</td><td>0.0179432</td></tr><tr><th>30</th><td>-0.000568348</td><td>-0.0053745</td><td>-0.0137531</td><td>0.000427112</td><td>-0.00944515</td><td>-0.00546905</td><td>-0.038141</td><td>-0.00137799</td><td>-0.0135761</td><td>-0.116625</td><td>0.00862754</td><td>0.0110287</td><td>0.00749674</td><td>-0.000340212</td><td>0.0161791</td><td>0.0168334</td><td>-0.00345567</td><td>0.00192637</td><td>-0.00556905</td><td>-0.00325225</td><td>0.000169187</td><td>0.0070788</td><td>0.00913848</td><td>-0.00521689</td><td>-0.00439371</td><td>-0.0156475</td><td>0.0149114</td><td>0.0857654</td><td>0.00644959</td><td>0.00468636</td><td>NaN</td><td>0.00229245</td><td>0.000983374</td><td>0.00549808</td><td>0.00346693</td><td>0.000513047</td><td>0.00762873</td><td>0.00207002</td><td>-0.0250448</td><td>0.00221861</td><td>-0.00247273</td><td>0.00886093</td><td>0.00306148</td><td>-0.0012222</td><td>0.00181357</td><td>-0.00154617</td><td>0.00204664</td><td>0.00856413</td><td>-0.00175808</td><td>0.000984188</td><td>0.0197653</td><td>0.00523364</td><td>0.00472657</td><td>0.00280831</td><td>0.184465</td><td>-0.0795536</td><td>-0.156403</td><td>0.00549831</td><td>-0.58225</td><td>-0.0728325</td><td>0.0572283</td><td>-0.0492431</td><td>-0.0615504</td><td>0.060109</td><td>0.0215671</td><td>NaN</td><td>NaN</td><td>NaN</td><td>NaN</td><td>-0.0614044</td><td>-0.00559518</td><td>-0.00675477</td><td>0.782761</td><td>-0.022015</td><td>-0.173315</td><td>4.77066</td><td>0.000564838</td><td>-0.00254015</td><td>-0.0276113</td><td>-0.0102833</td><td>0.0229554</td><td>-0.055486</td><td>7.63608</td><td>6.25371</td><td>-7.57098</td><td>0.018101</td></tr><tr><th>&vellip;</th><td>&vellip;</td><td>&vellip;</td><td>&vellip;</td><td>&vellip;</td><td>&vellip;</td><td>&vellip;</td><td>&vellip;</td><td>&vellip;</td><td>&vellip;</td><td>&vellip;</td><td>&vellip;</td><td>&vellip;</td><td>&vellip;</td><td>&vellip;</td><td>&vellip;</td><td>&vellip;</td><td>&vellip;</td><td>&vellip;</td><td>&vellip;</td><td>&vellip;</td><td>&vellip;</td><td>&vellip;</td><td>&vellip;</td><td>&vellip;</td><td>&vellip;</td><td>&vellip;</td><td>&vellip;</td><td>&vellip;</td><td>&vellip;</td><td>&vellip;</td><td>&vellip;</td><td>&vellip;</td><td>&vellip;</td><td>&vellip;</td><td>&vellip;</td><td>&vellip;</td><td>&vellip;</td><td>&vellip;</td><td>&vellip;</td><td>&vellip;</td><td>&vellip;</td><td>&vellip;</td><td>&vellip;</td><td>&vellip;</td><td>&vellip;</td><td>&vellip;</td><td>&vellip;</td><td>&vellip;</td><td>&vellip;</td><td>&vellip;</td><td>&vellip;</td><td>&vellip;</td><td>&vellip;</td><td>&vellip;</td><td>&vellip;</td><td>&vellip;</td><td>&vellip;</td><td>&vellip;</td><td>&vellip;</td><td>&vellip;</td><td>&vellip;</td><td>&vellip;</td><td>&vellip;</td><td>&vellip;</td><td>&vellip;</td><td>&vellip;</td><td>&vellip;</td><td>&vellip;</td><td>&vellip;</td><td>&vellip;</td><td>&vellip;</td><td>&vellip;</td><td>&vellip;</td><td>&vellip;</td><td>&vellip;</td><td>&vellip;</td><td>&vellip;</td><td>&vellip;</td><td>&vellip;</td><td>&vellip;</td><td>&vellip;</td><td>&vellip;</td><td>&vellip;</td><td>&vellip;</td><td>&vellip;</td><td>&vellip;</td></tr></tbody></table>"
      ],
      "text/plain": [
       "222×86 DataFrames.DataFrame. Omitted printing of 82 columns\n",
       "│ Row │ x1           │ x2           │ x3           │ x4           │\n",
       "├─────┼──────────────┼──────────────┼──────────────┼──────────────┤\n",
       "│ 1   │ -0.0116989   │ 0.000417996  │ 0.0050264    │ 0.00246625   │\n",
       "│ 2   │ -0.00581949  │ -0.00882744  │ -0.0629256   │ 0.00114872   │\n",
       "│ 3   │ 0.012316     │ -0.000459845 │ 0.0175352    │ -0.00193086  │\n",
       "│ 4   │ -0.0134915   │ 0.00268641   │ 0.0084729    │ 0.000181831  │\n",
       "│ 5   │ -0.00717594  │ -0.0139067   │ -0.0219165   │ -0.0120076   │\n",
       "│ 6   │ -0.0218157   │ -0.00861225  │ -0.0393015   │ -0.00117535  │\n",
       "│ 7   │ -0.00283434  │ -0.0101246   │ -0.0704661   │ -0.00076794  │\n",
       "│ 8   │ 0.00883281   │ 0.00493428   │ 0.0066869    │ 0.00372857   │\n",
       "│ 9   │ 0.00697616   │ -0.00494625  │ 0.0103326    │ -0.00764344  │\n",
       "│ 10  │ 0.0105292    │ 0.0100276    │ 0.0335589    │ 0.00676143   │\n",
       "│ 11  │ 0.00833999   │ 0.000812098  │ 0.00756745   │ -0.00128069  │\n",
       "⋮\n",
       "│ 211 │ 6.28e-5      │ 0.000590848  │ 0.0125893    │ -0.000951659 │\n",
       "│ 212 │ -0.0014477   │ -0.00308755  │ -0.00728845  │ -0.00229466  │\n",
       "│ 213 │ 0.00069685   │ -0.00138738  │ 0.0063713    │ -0.00218947  │\n",
       "│ 214 │ -0.00527329  │ -0.00138238  │ 0.00891624   │ -0.00181821  │\n",
       "│ 215 │ 0.00136266   │ 0.00267335   │ 0.00750272   │ 0.000625884  │\n",
       "│ 216 │ -0.000998409 │ -0.00171795  │ -0.00180695  │ -0.000303693 │\n",
       "│ 217 │ 0.00569766   │ -0.00112899  │ -0.000681604 │ -0.00214867  │\n",
       "│ 218 │ 0.00327675   │ 0.00306594   │ 0.00127327   │ 0.00393077   │\n",
       "│ 219 │ -0.0106217   │ -0.00298043  │ -0.00488462  │ -0.00194265  │\n",
       "│ 220 │ 0.00595995   │ 0.00029053   │ 0.0203271    │ -0.0029693   │\n",
       "│ 221 │ 0.00687755   │ 0.00197529   │ 0.00942875   │ 0.00102913   │\n",
       "│ 222 │ 0.000212054  │ 0.00439543   │ 0.00209594   │ 0.00479972   │"
      ]
     },
     "execution_count": 14,
     "metadata": {},
     "output_type": "execute_result"
    }
   ],
   "source": [
    "xdata_df = DataFrame(xdata)"
   ]
  },
  {
   "cell_type": "code",
   "execution_count": 15,
   "metadata": {},
   "outputs": [
    {
     "data": {
      "text/plain": [
       "222×86 Array{Float64,2}:\n",
       " -1.40748     0.0744596   0.173258    0.616121   …  -0.60472       0.196305 \n",
       " -0.695838   -1.32505    -2.11177     0.294728      -0.393958     -0.598907 \n",
       "  1.4993     -0.0584219   0.593892   -0.456492      -0.105092      1.76475  \n",
       " -1.62447     0.417836    0.289153    0.0588688     -1.16179      -0.114897 \n",
       " -0.860024   -2.09391    -0.732752   -2.91457       -0.937152     -0.418518 \n",
       " -2.63204    -1.29248    -1.31736    -0.272196   …  -1.20846      -1.43494  \n",
       " -0.334512   -1.5214     -2.36533    -0.172815      -0.960779     -2.53669  \n",
       "  1.07769     0.758103    0.229095    0.924045       1.12853      -1.47241  \n",
       "  0.852962   -0.737543    0.35169    -1.85           1.15123      -0.319026 \n",
       "  1.28303     1.5291      1.13272     1.66387        1.61024       0.0514838\n",
       "  1.01804     0.134116    0.258706   -0.297892   …   0.443519      0.69363  \n",
       "  0.157477    0.375434    0.433345    1.02332       -0.374164      0.200718 \n",
       "  0.0106661  -0.238761   -0.216038   -0.488643      -0.567269      0.420373 \n",
       "  ⋮                                              ⋱                 ⋮        \n",
       "  0.0161614   0.100625    0.427577   -0.21763    …   0.0423418     0.328088 \n",
       " -0.166671   -0.456185   -0.240854   -0.545237      -0.0365344     0.361828 \n",
       "  0.0929075  -0.198825    0.218483   -0.519578      -0.533352      0.769877 \n",
       " -0.629726   -0.198069    0.304061   -0.429014      -0.538782     -0.0953182\n",
       "  0.173498    0.415859    0.256529    0.167189      -0.314585      0.285068 \n",
       " -0.112289   -0.248864   -0.0565276  -0.059568   …  -0.462366     -0.0548241\n",
       "  0.698211   -0.159712   -0.0186856  -0.509624       0.868664      0.202178 \n",
       "  0.405182    0.475287    0.0470512   0.973371       1.10212       0.851365 \n",
       " -1.2771     -0.439971   -0.160021   -0.459369       0.00839292    0.371748 \n",
       "  0.729959    0.0551646   0.687775   -0.709806       0.407285      0.444046 \n",
       "  0.841026    0.310191    0.321295    0.265555   …   0.925641      0.371411 \n",
       "  0.0342273   0.676536    0.074715    1.18534        0.814873    NaN        "
      ]
     },
     "execution_count": 15,
     "metadata": {},
     "output_type": "execute_result"
    }
   ],
   "source": [
    "tmp = size(xdata, 1) - sum(isnan.(xdata), 1)\n",
    "tmp = (tmp-1)./tmp\n",
    "\n",
    "xdatamean = nanmean(xdata_df)\n",
    "xdatastd = nanstd(xdata_df).*sqrt.(tmp)\n",
    "\n",
    "data_standardized  = (xdata .- xdatamean)./xdatastd"
   ]
  },
  {
   "cell_type": "markdown",
   "metadata": {},
   "source": [
    "### only use datas with inclcode==1 "
   ]
  },
  {
   "cell_type": "code",
   "execution_count": 16,
   "metadata": {},
   "outputs": [
    {
     "data": {
      "text/plain": [
       "222×58 Array{Float64,2}:\n",
       "  0.173258    0.616121   -0.449517    …  -0.60472       0.196305 \n",
       " -2.11177     0.294728   -0.119795       -0.393958     -0.598907 \n",
       "  0.593892   -0.456492   -0.632765       -0.105092      1.76475  \n",
       "  0.289153    0.0588688   0.537598       -1.16179      -0.114897 \n",
       " -0.732752   -2.91457    -1.79397        -0.937152     -0.418518 \n",
       " -1.31736    -0.272196   -0.875153    …  -1.20846      -1.43494  \n",
       " -2.36533    -0.172815   -0.148152       -0.960779     -2.53669  \n",
       "  0.229095    0.924045    0.891152        1.12853      -1.47241  \n",
       "  0.35169    -1.85       -0.861188        1.15123      -0.319026 \n",
       "  1.13272     1.66387     0.919308        1.61024       0.0514838\n",
       "  0.258706   -0.297892    0.191752    …   0.443519      0.69363  \n",
       "  0.433345    1.02332    -0.40217        -0.374164      0.200718 \n",
       " -0.216038   -0.488643    0.124493       -0.567269      0.420373 \n",
       "  ⋮                                   ⋱                          \n",
       "  0.427577   -0.21763    -0.00601165  …   0.0423418     0.328088 \n",
       " -0.240854   -0.545237   -0.405563       -0.0365344     0.361828 \n",
       "  0.218483   -0.519578   -0.30329        -0.533352      0.769877 \n",
       "  0.304061   -0.429014   -0.626306       -0.538782     -0.0953182\n",
       "  0.256529    0.167189    0.945992       -0.314585      0.285068 \n",
       " -0.0565276  -0.059568   -0.743889    …  -0.462366     -0.0548241\n",
       " -0.0186856  -0.509624    0.290315        0.868664      0.202178 \n",
       "  0.0470512   0.973371    0.257383        1.10212       0.851365 \n",
       " -0.160021   -0.459369   -0.654878        0.00839292    0.371748 \n",
       "  0.687775   -0.709806    0.0960074       0.407285      0.444046 \n",
       "  0.321295    0.265555    0.219988    …   0.925641      0.371411 \n",
       "  0.074715    1.18534     0.651889        0.814873    NaN        "
      ]
     },
     "execution_count": 16,
     "metadata": {},
     "output_type": "execute_result"
    }
   ],
   "source": [
    "inclcode = readcsv(\"data/inclcode.csv\")\n",
    "\n",
    "tmp = Matrix{Float64}(size(data_standardized, 1), count(inclcode.==1))\n",
    "j = 0\n",
    "for i = 1:size(xdata, 2)\n",
    "    if inclcode[1, i] == 1\n",
    "        j = j + 1\n",
    "        tmp[:, j] = data_standardized[:, i]\n",
    "    end\n",
    "end\n",
    "data_standardized = tmp"
   ]
  },
  {
   "cell_type": "markdown",
   "metadata": {},
   "source": [
    "## Compute Total Sum of Squares"
   ]
  },
  {
   "cell_type": "code",
   "execution_count": 17,
   "metadata": {
    "scrolled": true
   },
   "outputs": [
    {
     "data": {
      "text/plain": [
       "12700.0"
      ]
     },
     "execution_count": 17,
     "metadata": {},
     "output_type": "execute_result"
    }
   ],
   "source": [
    "tss = sum(nansum(DataFrame(data_standardized.^2)))"
   ]
  },
  {
   "cell_type": "markdown",
   "metadata": {},
   "source": [
    "## Remove columns containing NaN"
   ]
  },
  {
   "cell_type": "code",
   "execution_count": 18,
   "metadata": {},
   "outputs": [
    {
     "data": {
      "text/plain": [
       "([0.173258 0.616121 … 0.258725 -0.60472; -2.11177 0.294728 … -1.11863 -0.393958; … ; 0.321295 0.265555 … 0.707057 0.925641; 0.074715 1.18534 … 0.555908 0.814873], Bool[true true … true false])"
      ]
     },
     "execution_count": 18,
     "metadata": {},
     "output_type": "execute_result"
    }
   ],
   "source": [
    "xbal, _ = dropna_col(data_standardized)"
   ]
  },
  {
   "cell_type": "markdown",
   "metadata": {},
   "source": [
    "# PCA"
   ]
  },
  {
   "cell_type": "code",
   "execution_count": 19,
   "metadata": {},
   "outputs": [
    {
     "data": {
      "text/plain": [
       "1"
      ]
     },
     "execution_count": 19,
     "metadata": {},
     "output_type": "execute_result"
    }
   ],
   "source": [
    "nt, ns = size(data_standardized)\n",
    "nfac_o = 0 # number of observed factors\n",
    "nfac_u = 1 # number of unobserved factors\n",
    "nfac_t = nfac_o + nfac_u # total number of factors"
   ]
  },
  {
   "cell_type": "code",
   "execution_count": 20,
   "metadata": {},
   "outputs": [
    {
     "data": {
      "text/plain": [
       "222×1 Array{Float64,2}:\n",
       "  3.59133  \n",
       "  3.81922  \n",
       " -4.8285   \n",
       "  3.57713  \n",
       "  7.32604  \n",
       "  9.797    \n",
       "  8.64339  \n",
       " -0.0988581\n",
       " -2.12375  \n",
       " -5.12746  \n",
       " -2.96291  \n",
       " -1.34933  \n",
       "  1.74576  \n",
       "  ⋮        \n",
       " -3.2693   \n",
       " -0.524436 \n",
       " -0.440566 \n",
       " -1.56502  \n",
       " -1.99228  \n",
       " -1.82968  \n",
       " -2.3149   \n",
       " -3.62214  \n",
       " -1.37052  \n",
       " -4.2118   \n",
       " -3.41265  \n",
       " -3.06683  "
      ]
     },
     "execution_count": 20,
     "metadata": {},
     "output_type": "execute_result"
    }
   ],
   "source": [
    "f = pca_score(xbal, nfac_u)\n",
    "fa = f"
   ]
  },
  {
   "cell_type": "markdown",
   "metadata": {},
   "source": [
    "# Least square"
   ]
  },
  {
   "cell_type": "code",
   "execution_count": 21,
   "metadata": {},
   "outputs": [
    {
     "name": "stdout",
     "output_type": "stream",
     "text": [
      "7805.186076916562\n",
      "0.48167949559046974\n",
      "0.002725418577028904\n"
     ]
    }
   ],
   "source": [
    "lambda = Matrix{Float64}(ns, nfac_t)\n",
    "ssr = 0\n",
    "\n",
    "diff = 1000\n",
    "tol = 1e-8\n",
    "while diff > tol*nt*ns\n",
    "    ssr_old = ssr\n",
    "    for i = 1:ns\n",
    "        if size(data_standardized, 1) >= nt_min # if sample size is enough\n",
    "            xdata_stdi = data_standardized[:, i]\n",
    "            b, _, _ = nanols(xdata_stdi[:, 1], fa)\n",
    "            lambda[i, :] = b'\n",
    "        end\n",
    "    end\n",
    "\n",
    "    edata = data_standardized\n",
    "    for t = 1:nt\n",
    "        b, _, _ = nanols(edata[t, :], lambda[:, nfac_o+1:end])\n",
    "        f[t, :] = b'\n",
    "    end\n",
    "    fa = f\n",
    "    ehat = data_standardized - fa*lambda'\n",
    "    ssr = sum(nansum(ehat.^2))\n",
    "    diff = abs(ssr_old - ssr)\n",
    "    println(diff)\n",
    "end"
   ]
  },
  {
   "cell_type": "code",
   "execution_count": 22,
   "metadata": {},
   "outputs": [
    {
     "data": {
      "text/plain": [
       "224×1 Array{Float64,2}:\n",
       " NaN        \n",
       " NaN        \n",
       "   3.55906  \n",
       "   3.97141  \n",
       "  -5.29767  \n",
       "   3.52022  \n",
       "   7.35006  \n",
       "   9.7971   \n",
       "   8.80436  \n",
       "   0.0734791\n",
       "  -2.08731  \n",
       "  -5.13417  \n",
       "  -2.95774  \n",
       "   ⋮        \n",
       "  -3.28253  \n",
       "  -0.435026 \n",
       "  -0.489242 \n",
       "  -1.55541  \n",
       "  -2.36165  \n",
       "  -2.07796  \n",
       "  -1.93469  \n",
       "  -3.78706  \n",
       "  -1.45445  \n",
       "  -4.59681  \n",
       "  -3.16031  \n",
       "  -3.344    "
      ]
     },
     "execution_count": 22,
     "metadata": {},
     "output_type": "execute_result"
    },
    {
     "name": "stdout",
     "output_type": "stream",
     "text": [
      "4.325549707573373e-5\n"
     ]
    }
   ],
   "source": [
    "lambda = lambda.*xdatastd\n",
    "\n",
    "fac_est = fill(NaN, size(data, 1), nfac_t)\n",
    "fac_est[initperiod:end,  :] = fa\n",
    "\n",
    "fac = fac_est"
   ]
  },
  {
   "cell_type": "markdown",
   "metadata": {},
   "source": [
    "The above code are mostly coming from `factor_estimation_ls.m`\n"
   ]
  },
  {
   "cell_type": "markdown",
   "metadata": {},
   "source": [
    "## Part of  `factor_estimation_ls_full.m`"
   ]
  },
  {
   "cell_type": "code",
   "execution_count": 23,
   "metadata": {},
   "outputs": [],
   "source": [
    "n_series = size(data, 2)\n",
    "n_uarlag = 4 # number of arlags for uniqueness\n",
    "\n",
    "lam_mat = Matrix{Float64}(n_series, nfac_t)\n",
    "uar_coef_mat = Matrix{Float64}(n_series, n_uarlag)\n",
    "uar_ser_mat = Vector{Float64}(n_series)\n",
    "r2_mat = Vector{Float64}(n_series)\n",
    "for is = 1:n_series\n",
    "    if size(tmp, 1) >= nt_min\n",
    "        bols, uhat, numrow = \n",
    "            nanols(data[initperiod:end, is],\n",
    "                   [fac[initperiod:end, :] ones(size(tmp, 1), 1)])\n",
    "        y_used = data[initperiod:end, is][numrow, :]\n",
    "        b = copy(bols)\n",
    "        lam_mat[is, :] = b[1:end-1]\n",
    "        ssr = sum(uhat.^2)\n",
    "        ym = y_used - mean(y_used)\n",
    "        tss = sum(ym.^2)\n",
    "        r2_mat[is] = 1-ssr/tss\n",
    "        if r2_mat[is] < 0.9999\n",
    "            arcoef, ser = uar(uhat, n_uarlag)\n",
    "        else\n",
    "            arcoef, ser = zeros(n_uarlag, 1), 0.0\n",
    "        end\n",
    "    end\n",
    "    uar_coef_mat[is, :] = arcoef'\n",
    "    uar_ser_mat[is, 1] = ser\n",
    "end"
   ]
  },
  {
   "cell_type": "markdown",
   "metadata": {},
   "source": [
    "# `varest.m`"
   ]
  },
  {
   "cell_type": "code",
   "execution_count": 24,
   "metadata": {},
   "outputs": [
    {
     "ename": "LoadError",
     "evalue": "\u001b[91msyntax: invalid interpolation syntax: \"$ \"\u001b[39m",
     "output_type": "error",
     "traceback": [
      "\u001b[91msyntax: invalid interpolation syntax: \"$ \"\u001b[39m",
      "",
      "Stacktrace:",
      " [1] \u001b[1minclude_string\u001b[22m\u001b[22m\u001b[1m(\u001b[22m\u001b[22m::String, ::String\u001b[1m)\u001b[22m\u001b[22m at \u001b[1m.\\loading.jl:522\u001b[22m\u001b[22m"
     ]
    }
   ],
   "source": [
    "\"\"\"\n",
    "VAR model can be expressed in state-space form:\n",
    "```math\n",
    "y_t = Qz_t\n",
    "```\n",
    "```\n",
    "z_t = Mz_{t-1}+Gu_t\n",
    "```\n",
    "where $z_t$ has $y_t$ and lagged $y_t$s\n",
    "\"\"\"\n",
    "struct VARModel{TA <: AbstactArray, TM <: AbstractMatrix}\n",
    "    y::TA\n",
    "    nlag::TI\n",
    "    withconst::Bool\n",
    "    initperiod::Int\n",
    "    lastperiod::Int\n",
    "    T::Int\n",
    "    ns::Int\n",
    "    Q::TM\n",
    "    M::TM\n",
    "end\n",
    "function VARModel(y::AbstractArray, nlag::Integer=1; \n",
    "                  withconst::Bool=true,\n",
    "                  initperiod::Integer=1, lastperiod::Integer=size(y, 1))\n",
    "    T, ns = size(y, 1), size(y, 2)\n",
    "    Q = fill(NaN, ns, )\n",
    "    return VARModel(y, nlag, withconst, initperiod, lastperiod, T, ns)\n",
    "end\n",
    "function estimate(varm::VARModel, compute_matrices::Bool=true)\n",
    "    y_restricted = varm.y[initperiod:lastperiod, :]\n",
    "    trend = initperiod:lastperiod\n",
    "    \n",
    "    # regressors\n",
    "    withconst || (x = lagmat(y_restricted, 1:nlag))\n",
    "    !withconst || (x = [ones(lastperiod-initperiod+1) lagmat(y_restricted, 1:nlag)])\n",
    "    \n",
    "    # do OLS ignoring the samples containing NaN\n",
    "#     betahat, ehat, y_used, regressors_used = nanols(y, [x trend])\n",
    "#     x_used = regressors_used[:, ]\n",
    "    regressors = [x trend]\n",
    "    betahat, ehat, numrows = nanols(y, regressors)\n",
    "    x_used = regressors_used[:, ]\n",
    "    \n",
    "    K = size(regressors, 2)\n",
    "    ndf = size(x_used, 1) - K # degree of freedom (T-K)\n",
    "    seps = ehat'*ehat/ndf # covariance matrix of error term\n",
    "\n",
    "    resid = fill(NaN, T, ns)\n",
    "    resid[Int.(x_used[:, end]), :] = ehat\n",
    "    if compute_matrices\n",
    "        b = betahat[2:end, :]'\n",
    "        const_coef = betahat[1, :]\n",
    "\n",
    "        varm.M .= zeros(size(b, 2), size(b, 2))\n",
    "        varm.M[1:size(b, 1), :] .= b\n",
    "\n",
    "        if size(b, 2) > size(b, 1)\n",
    "            varm.M[size(b, 1)+1:end, 1:end-size(b, 1)] .=\n",
    "                eye(size(b, 2)-size(b, 1))\n",
    "        end\n",
    "\n",
    "        varm.Q .= zeros(ns, size(M, 1))\n",
    "        varm.Q[1:ns, 1:ns] .= eye(ns)\n",
    "        varm.G .= zeros(size(M, 1), ns)\n",
    "        varm.G[1:ns, 1:ns] .= (chol(seps))'\n",
    "    end\n",
    "    return resid\n",
    "end"
   ]
  },
  {
   "cell_type": "code",
   "execution_count": 25,
   "metadata": {},
   "outputs": [
    {
     "data": {
      "text/plain": [
       "([0.898542 -0.195667 … -0.13101 0.000909197; 1.0 0.0 … 0.0 0.0; … ; 0.0 0.0 … 0.0 0.0; 0.0 0.0 … 1.0 0.0], [1.0 0.0 … 0.0 0.0], [2.83044; 0.0; … ; 0.0; 0.0])"
      ]
     },
     "execution_count": 25,
     "metadata": {},
     "output_type": "execute_result"
    }
   ],
   "source": [
    "function estimate_var(y, nlag::Integer, initperiod::Integer)\n",
    "    \n",
    "    T, ns = size(y, 1), size(y, 2)\n",
    "\n",
    "    x = [ones(T, 1) lagmat(y, 1:nlag)]\n",
    "    trend = initperiod:T\n",
    "    \n",
    "    y = y[initperiod:T, :]\n",
    "    x = x[initperiod:T, :]\n",
    "    \n",
    "    betahat, ehat, numrow = nanols(y, [x trend])\n",
    "    y_used, x_used = y[numrow, :], [x trend][numrow, :]\n",
    "\n",
    "    ndf = size(x_used, 1) - size(x_used, 2) # degree of freedom (T-K)\n",
    "    seps = ehat'*ehat/ndf\n",
    "\n",
    "    resid = fill(NaN, T, ns)\n",
    "    resid[Int.(x_used[:, end]), :] = ehat\n",
    "\n",
    "    b = betahat[2:end, :]'\n",
    "    const_coef = betahat[1, :]\n",
    "\n",
    "    M = zeros(size(b, 2), size(b, 2))\n",
    "    M[1:size(b, 1), :] = b\n",
    "\n",
    "    if size(b, 2) > size(b, 1)\n",
    "        M[size(b, 1)+1:end, 1:end-size(b, 1)] =\n",
    "            eye(size(b, 2)-size(b, 1))\n",
    "    end\n",
    "\n",
    "    Q = zeros(ns, size(M, 1))\n",
    "    Q[1:ns, 1:ns] = eye(ns)\n",
    "    G = zeros(size(M, 1), ns)\n",
    "    G[1:ns, 1:ns] = (chol(seps))'\n",
    "    return M, Q, G\n",
    "end\n",
    "estimate_var(fac, 4, initperiod)"
   ]
  },
  {
   "cell_type": "markdown",
   "metadata": {},
   "source": [
    "`varest.m` part is done."
   ]
  },
  {
   "cell_type": "code",
   "execution_count": 26,
   "metadata": {},
   "outputs": [
    {
     "data": {
      "text/plain": [
       "([0.898542 -0.195667 … -0.13101 0.000909197; 1.0 0.0 … 0.0 0.0; … ; 0.0 0.0 … 0.0 0.0; 0.0 0.0 … 1.0 0.0], [1.0 0.0 … 0.0 0.0], [2.83044; 0.0; … ; 0.0; 0.0])"
      ]
     },
     "execution_count": 26,
     "metadata": {},
     "output_type": "execute_result"
    }
   ],
   "source": [
    "M, Q, G = estimate_var(fac, 4, initperiod)"
   ]
  },
  {
   "cell_type": "code",
   "execution_count": 27,
   "metadata": {},
   "outputs": [
    {
     "data": {
      "text/plain": [
       "5×1 Array{Float64,2}:\n",
       " 2.83044\n",
       " 0.0    \n",
       " 0.0    \n",
       " 0.0    \n",
       " 0.0    "
      ]
     },
     "execution_count": 27,
     "metadata": {},
     "output_type": "execute_result"
    }
   ],
   "source": [
    "G"
   ]
  },
  {
   "cell_type": "markdown",
   "metadata": {},
   "source": [
    "# Plotting"
   ]
  },
  {
   "cell_type": "code",
   "execution_count": 28,
   "metadata": {},
   "outputs": [
    {
     "data": {
      "text/plain": [
       "224×1 Array{Float64,2}:\n",
       " NaN          \n",
       " NaN          \n",
       " NaN          \n",
       " NaN          \n",
       "   0.00902449 \n",
       "  -0.0186939  \n",
       "  -0.0141709  \n",
       "  -0.0301671  \n",
       "  -0.0453175  \n",
       "  -0.0229932  \n",
       "  -0.00884106 \n",
       "   0.0235039  \n",
       "   0.0346782  \n",
       "   ⋮          \n",
       "   0.00394735 \n",
       "   0.000831648\n",
       "   0.0049777  \n",
       "  -0.00596135 \n",
       "  -0.00466148 \n",
       "  -0.00421219 \n",
       "   0.000788617\n",
       "   0.00933866 \n",
       "  -0.00264566 \n",
       "   0.0043127  \n",
       "   0.00549259 \n",
       "   0.00242789 "
      ]
     },
     "execution_count": 28,
     "metadata": {},
     "output_type": "execute_result"
    }
   ],
   "source": [
    "j = 1\n",
    "yf = lam_mat[j, :]' * fac'\n",
    "\n",
    "y4f = sum(lagmat(yf', 0:3), 2)\n",
    "y4 = sum(lagmat(data[:, 1], 0:3), 2)"
   ]
  },
  {
   "cell_type": "code",
   "execution_count": 29,
   "metadata": {},
   "outputs": [
    {
     "data": {
      "image/png": "[encoded data removed]"
     },
     "execution_count": 29,
     "metadata": {},
     "output_type": "execute_result"
    }
   ],
   "source": [
    "plot(year, [100*y4 100*y4f], lw=2, lab=[\"GDP\" \"Common Component\"])"
   ]
  },
  {
   "cell_type": "code",
   "execution_count": null,
   "metadata": {},
   "outputs": [],
   "source": []
  },
  {
   "cell_type": "code",
   "execution_count": null,
   "metadata": {},
   "outputs": [],
   "source": []
  }
 ],
 "metadata": {
  "hide_input": false,
  "kernelspec": {
   "display_name": "Julia 0.6.4",
   "language": "julia",
   "name": "julia-0.6"
  },
  "language_info": {
   "file_extension": ".jl",
   "mimetype": "application/julia",
   "name": "julia",
   "version": "0.6.4"
  },
  "toc": {
   "colors": {
    "hover_highlight": "#DAA520",
    "running_highlight": "#FF0000",
    "selected_highlight": "#FFD700"
   },
   "moveMenuLeft": true,
   "nav_menu": {
    "height": "310px",
    "width": "252px"
   },
   "navigate_menu": true,
   "number_sections": true,
   "sideBar": true,
   "threshold": 4,
   "toc_cell": false,
   "toc_section_display": "block",
   "toc_window_display": false
  }
 },
 "nbformat": 4,
 "nbformat_minor": 2
}
